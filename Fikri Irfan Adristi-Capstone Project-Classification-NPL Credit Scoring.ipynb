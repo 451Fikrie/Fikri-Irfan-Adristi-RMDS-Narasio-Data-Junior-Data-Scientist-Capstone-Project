{
  "nbformat": 4,
  "nbformat_minor": 0,
  "metadata": {
    "kernelspec": {
      "display_name": "Python 3",
      "language": "python",
      "name": "python3"
    },
    "language_info": {
      "codemirror_mode": {
        "name": "ipython",
        "version": 3
      },
      "file_extension": ".py",
      "mimetype": "text/x-python",
      "name": "python",
      "nbconvert_exporter": "python",
      "pygments_lexer": "ipython3",
      "version": "3.7.7"
    },
    "colab": {
      "name": "Fikri Irfan Adristi-Capstone Project-Classification-NPL Credit Scoring.ipynb",
      "provenance": [],
      "collapsed_sections": []
    }
  },
  "cells": [
    {
      "cell_type": "markdown",
      "metadata": {
        "id": "IJO-n2byJ_lY"
      },
      "source": [
        "## CAPSTONE PROJECT - CLASSIFICATION"
      ]
    },
    {
      "cell_type": "markdown",
      "source": [
        "## NPL Credit Scoring\n",
        "### Disusun oleh: Fikri Irfan Adristi"
      ],
      "metadata": {
        "id": "6RrrIZ_-7y8u"
      }
    },
    {
      "cell_type": "markdown",
      "metadata": {
        "id": "rZR9IwjIJ_lb"
      },
      "source": [
        "#### IMPORT PACKAGES"
      ]
    },
    {
      "cell_type": "code",
      "metadata": {
        "id": "7EZ9sGkuJ_lc",
        "colab": {
          "base_uri": "https://localhost:8080/"
        },
        "outputId": "e7278940-7e20-46de-976e-ad6e12e0c814"
      },
      "source": [
        "from google.colab import drive\n",
        "drive.mount('/content/drive')"
      ],
      "execution_count": 1,
      "outputs": [
        {
          "output_type": "stream",
          "name": "stdout",
          "text": [
            "Mounted at /content/drive\n"
          ]
        }
      ]
    },
    {
      "cell_type": "code",
      "source": [
        "# Import Package\n",
        "import os\n",
        "import pandas as pd\n",
        "import numpy as np\n",
        "\n",
        "# Package untuk visualisasi\n",
        "import matplotlib.pyplot as plt\n",
        "import seaborn as sns\n",
        "\n",
        "# Package untuk cleaning, modelling, dan evaluation model\n",
        "import statsmodels.api as sm\n",
        "from statsmodels import api\n",
        "from sklearn.preprocessing import LabelEncoder, StandardScaler, MinMaxScaler\n",
        "from sklearn.model_selection import train_test_split, cross_validate, cross_val_score, KFold, GridSearchCV\n",
        "from sklearn.metrics import accuracy_score, precision_score, recall_score, f1_score\n",
        "from sklearn.linear_model import LogisticRegression\n",
        "from sklearn.svm import SVC\n",
        "from scipy import stats\n",
        "from scipy.optimize import minimize"
      ],
      "metadata": {
        "id": "jnI71tGDCoc2",
        "colab": {
          "base_uri": "https://localhost:8080/"
        },
        "outputId": "8b2ef5ff-68f4-4f5e-ec8d-b5e7f9f9e421"
      },
      "execution_count": 2,
      "outputs": [
        {
          "output_type": "stream",
          "name": "stderr",
          "text": [
            "/usr/local/lib/python3.7/dist-packages/statsmodels/tools/_testing.py:19: FutureWarning: pandas.util.testing is deprecated. Use the functions in the public API at pandas.testing instead.\n",
            "  import pandas.util.testing as tm\n"
          ]
        }
      ]
    },
    {
      "cell_type": "code",
      "source": [
        "# Membuat path untuk mengidentifikasi letak directory data\n",
        "path = '/content/drive/MyDrive/Narasio/Certified Data Scientist/Junior Data Scientist/Capstone Project/Data'"
      ],
      "metadata": {
        "id": "vre3touJCsDr"
      },
      "execution_count": 3,
      "outputs": []
    },
    {
      "cell_type": "markdown",
      "metadata": {
        "id": "f4DCJr9kJ_lc"
      },
      "source": [
        "#### READ DATASET"
      ]
    },
    {
      "cell_type": "code",
      "metadata": {
        "id": "fcrxS0OHJ_ld",
        "colab": {
          "base_uri": "https://localhost:8080/",
          "height": 270
        },
        "outputId": "065719cc-87ca-484f-c098-737ceed96bf0"
      },
      "source": [
        "# Load data\n",
        "df_train = pd.read_csv(os.path.join(path, \"npl_credit_scoring_train.csv\"), encoding='utf-8')\n",
        "df_train.head()"
      ],
      "execution_count": 4,
      "outputs": [
        {
          "output_type": "execute_result",
          "data": {
            "text/html": [
              "\n",
              "  <div id=\"df-cc32c3a1-c1f0-4255-b761-752c3d1dea73\">\n",
              "    <div class=\"colab-df-container\">\n",
              "      <div>\n",
              "<style scoped>\n",
              "    .dataframe tbody tr th:only-of-type {\n",
              "        vertical-align: middle;\n",
              "    }\n",
              "\n",
              "    .dataframe tbody tr th {\n",
              "        vertical-align: top;\n",
              "    }\n",
              "\n",
              "    .dataframe thead th {\n",
              "        text-align: right;\n",
              "    }\n",
              "</style>\n",
              "<table border=\"1\" class=\"dataframe\">\n",
              "  <thead>\n",
              "    <tr style=\"text-align: right;\">\n",
              "      <th></th>\n",
              "      <th>X</th>\n",
              "      <th>jumlah_kartu</th>\n",
              "      <th>outstanding</th>\n",
              "      <th>limit_kredit</th>\n",
              "      <th>tagihan</th>\n",
              "      <th>total_pemakaian_tunai</th>\n",
              "      <th>total_pemakaian_retail</th>\n",
              "      <th>sisa_tagihan_tidak_terbayar</th>\n",
              "      <th>kode_cabang</th>\n",
              "      <th>rasio_pembayaran</th>\n",
              "      <th>persentasi_overlimit</th>\n",
              "      <th>rasio_pembayaran_3bulan</th>\n",
              "      <th>rasio_pembayaran_6bulan</th>\n",
              "      <th>skor_delikuensi</th>\n",
              "      <th>flag_kredit_macet</th>\n",
              "      <th>jumlah_tahun_sejak_pembukaan_kredit</th>\n",
              "      <th>total_pemakaian</th>\n",
              "      <th>sisa_tagihan_per_jumlah_kartu</th>\n",
              "      <th>sisa_tagihan_per_limit</th>\n",
              "      <th>total_pemakaian_per_limit</th>\n",
              "      <th>pemakaian_3bln_per_limit</th>\n",
              "      <th>pemakaian_6bln_per_limit</th>\n",
              "      <th>utilisasi_3bulan</th>\n",
              "      <th>utilisasi_6bulan</th>\n",
              "    </tr>\n",
              "  </thead>\n",
              "  <tbody>\n",
              "    <tr>\n",
              "      <th>0</th>\n",
              "      <td>92</td>\n",
              "      <td>5</td>\n",
              "      <td>5972272</td>\n",
              "      <td>6000000.0</td>\n",
              "      <td>5068230.0</td>\n",
              "      <td>0.0</td>\n",
              "      <td>0.0</td>\n",
              "      <td>5206434.0</td>\n",
              "      <td>NaN</td>\n",
              "      <td>12.19</td>\n",
              "      <td>0.00</td>\n",
              "      <td>7.84</td>\n",
              "      <td>43.92</td>\n",
              "      <td>0</td>\n",
              "      <td>0</td>\n",
              "      <td>9.916667</td>\n",
              "      <td>0.0</td>\n",
              "      <td>1041286.8</td>\n",
              "      <td>0.867739</td>\n",
              "      <td>0.000000</td>\n",
              "      <td>0.059401</td>\n",
              "      <td>0.041536</td>\n",
              "      <td>0.919164</td>\n",
              "      <td>0.919635</td>\n",
              "    </tr>\n",
              "    <tr>\n",
              "      <th>1</th>\n",
              "      <td>316</td>\n",
              "      <td>2</td>\n",
              "      <td>136453</td>\n",
              "      <td>65000000.0</td>\n",
              "      <td>128750.0</td>\n",
              "      <td>0.0</td>\n",
              "      <td>0.0</td>\n",
              "      <td>0.0</td>\n",
              "      <td>NaN</td>\n",
              "      <td>100.00</td>\n",
              "      <td>0.00</td>\n",
              "      <td>74.92</td>\n",
              "      <td>100.36</td>\n",
              "      <td>0</td>\n",
              "      <td>0</td>\n",
              "      <td>3.500000</td>\n",
              "      <td>0.0</td>\n",
              "      <td>0.0</td>\n",
              "      <td>0.000000</td>\n",
              "      <td>0.000000</td>\n",
              "      <td>0.023722</td>\n",
              "      <td>0.013271</td>\n",
              "      <td>0.022847</td>\n",
              "      <td>0.007724</td>\n",
              "    </tr>\n",
              "    <tr>\n",
              "      <th>2</th>\n",
              "      <td>624</td>\n",
              "      <td>1</td>\n",
              "      <td>1354080</td>\n",
              "      <td>3000000.0</td>\n",
              "      <td>1369203.0</td>\n",
              "      <td>0.0</td>\n",
              "      <td>15000.0</td>\n",
              "      <td>0.0</td>\n",
              "      <td>NaN</td>\n",
              "      <td>100.00</td>\n",
              "      <td>0.00</td>\n",
              "      <td>82.01</td>\n",
              "      <td>0.00</td>\n",
              "      <td>3</td>\n",
              "      <td>0</td>\n",
              "      <td>8.500000</td>\n",
              "      <td>15000.0</td>\n",
              "      <td>0.0</td>\n",
              "      <td>0.000000</td>\n",
              "      <td>0.005000</td>\n",
              "      <td>0.145833</td>\n",
              "      <td>0.000000</td>\n",
              "      <td>0.627426</td>\n",
              "      <td>0.899309</td>\n",
              "    </tr>\n",
              "    <tr>\n",
              "      <th>3</th>\n",
              "      <td>628</td>\n",
              "      <td>2</td>\n",
              "      <td>1076660</td>\n",
              "      <td>49000000.0</td>\n",
              "      <td>752108.0</td>\n",
              "      <td>0.0</td>\n",
              "      <td>775440.0</td>\n",
              "      <td>0.0</td>\n",
              "      <td>NaN</td>\n",
              "      <td>99.07</td>\n",
              "      <td>0.00</td>\n",
              "      <td>29.72</td>\n",
              "      <td>57.32</td>\n",
              "      <td>0</td>\n",
              "      <td>0</td>\n",
              "      <td>4.333333</td>\n",
              "      <td>775440.0</td>\n",
              "      <td>0.0</td>\n",
              "      <td>0.000000</td>\n",
              "      <td>0.015825</td>\n",
              "      <td>0.017617</td>\n",
              "      <td>0.177094</td>\n",
              "      <td>0.013699</td>\n",
              "      <td>0.255363</td>\n",
              "    </tr>\n",
              "    <tr>\n",
              "      <th>4</th>\n",
              "      <td>947</td>\n",
              "      <td>3</td>\n",
              "      <td>42281368</td>\n",
              "      <td>34000000.0</td>\n",
              "      <td>43130581.0</td>\n",
              "      <td>0.0</td>\n",
              "      <td>0.0</td>\n",
              "      <td>41144841.0</td>\n",
              "      <td>NaN</td>\n",
              "      <td>0.00</td>\n",
              "      <td>22.63</td>\n",
              "      <td>37.49</td>\n",
              "      <td>43.58</td>\n",
              "      <td>0</td>\n",
              "      <td>1</td>\n",
              "      <td>7.000000</td>\n",
              "      <td>0.0</td>\n",
              "      <td>13714947.0</td>\n",
              "      <td>1.210142</td>\n",
              "      <td>0.000000</td>\n",
              "      <td>0.412361</td>\n",
              "      <td>0.014556</td>\n",
              "      <td>1.205087</td>\n",
              "      <td>1.116092</td>\n",
              "    </tr>\n",
              "  </tbody>\n",
              "</table>\n",
              "</div>\n",
              "      <button class=\"colab-df-convert\" onclick=\"convertToInteractive('df-cc32c3a1-c1f0-4255-b761-752c3d1dea73')\"\n",
              "              title=\"Convert this dataframe to an interactive table.\"\n",
              "              style=\"display:none;\">\n",
              "        \n",
              "  <svg xmlns=\"http://www.w3.org/2000/svg\" height=\"24px\"viewBox=\"0 0 24 24\"\n",
              "       width=\"24px\">\n",
              "    <path d=\"M0 0h24v24H0V0z\" fill=\"none\"/>\n",
              "    <path d=\"M18.56 5.44l.94 2.06.94-2.06 2.06-.94-2.06-.94-.94-2.06-.94 2.06-2.06.94zm-11 1L8.5 8.5l.94-2.06 2.06-.94-2.06-.94L8.5 2.5l-.94 2.06-2.06.94zm10 10l.94 2.06.94-2.06 2.06-.94-2.06-.94-.94-2.06-.94 2.06-2.06.94z\"/><path d=\"M17.41 7.96l-1.37-1.37c-.4-.4-.92-.59-1.43-.59-.52 0-1.04.2-1.43.59L10.3 9.45l-7.72 7.72c-.78.78-.78 2.05 0 2.83L4 21.41c.39.39.9.59 1.41.59.51 0 1.02-.2 1.41-.59l7.78-7.78 2.81-2.81c.8-.78.8-2.07 0-2.86zM5.41 20L4 18.59l7.72-7.72 1.47 1.35L5.41 20z\"/>\n",
              "  </svg>\n",
              "      </button>\n",
              "      \n",
              "  <style>\n",
              "    .colab-df-container {\n",
              "      display:flex;\n",
              "      flex-wrap:wrap;\n",
              "      gap: 12px;\n",
              "    }\n",
              "\n",
              "    .colab-df-convert {\n",
              "      background-color: #E8F0FE;\n",
              "      border: none;\n",
              "      border-radius: 50%;\n",
              "      cursor: pointer;\n",
              "      display: none;\n",
              "      fill: #1967D2;\n",
              "      height: 32px;\n",
              "      padding: 0 0 0 0;\n",
              "      width: 32px;\n",
              "    }\n",
              "\n",
              "    .colab-df-convert:hover {\n",
              "      background-color: #E2EBFA;\n",
              "      box-shadow: 0px 1px 2px rgba(60, 64, 67, 0.3), 0px 1px 3px 1px rgba(60, 64, 67, 0.15);\n",
              "      fill: #174EA6;\n",
              "    }\n",
              "\n",
              "    [theme=dark] .colab-df-convert {\n",
              "      background-color: #3B4455;\n",
              "      fill: #D2E3FC;\n",
              "    }\n",
              "\n",
              "    [theme=dark] .colab-df-convert:hover {\n",
              "      background-color: #434B5C;\n",
              "      box-shadow: 0px 1px 3px 1px rgba(0, 0, 0, 0.15);\n",
              "      filter: drop-shadow(0px 1px 2px rgba(0, 0, 0, 0.3));\n",
              "      fill: #FFFFFF;\n",
              "    }\n",
              "  </style>\n",
              "\n",
              "      <script>\n",
              "        const buttonEl =\n",
              "          document.querySelector('#df-cc32c3a1-c1f0-4255-b761-752c3d1dea73 button.colab-df-convert');\n",
              "        buttonEl.style.display =\n",
              "          google.colab.kernel.accessAllowed ? 'block' : 'none';\n",
              "\n",
              "        async function convertToInteractive(key) {\n",
              "          const element = document.querySelector('#df-cc32c3a1-c1f0-4255-b761-752c3d1dea73');\n",
              "          const dataTable =\n",
              "            await google.colab.kernel.invokeFunction('convertToInteractive',\n",
              "                                                     [key], {});\n",
              "          if (!dataTable) return;\n",
              "\n",
              "          const docLinkHtml = 'Like what you see? Visit the ' +\n",
              "            '<a target=\"_blank\" href=https://colab.research.google.com/notebooks/data_table.ipynb>data table notebook</a>'\n",
              "            + ' to learn more about interactive tables.';\n",
              "          element.innerHTML = '';\n",
              "          dataTable['output_type'] = 'display_data';\n",
              "          await google.colab.output.renderOutput(dataTable, element);\n",
              "          const docLink = document.createElement('div');\n",
              "          docLink.innerHTML = docLinkHtml;\n",
              "          element.appendChild(docLink);\n",
              "        }\n",
              "      </script>\n",
              "    </div>\n",
              "  </div>\n",
              "  "
            ],
            "text/plain": [
              "     X  jumlah_kartu  ...  utilisasi_3bulan  utilisasi_6bulan\n",
              "0   92             5  ...          0.919164          0.919635\n",
              "1  316             2  ...          0.022847          0.007724\n",
              "2  624             1  ...          0.627426          0.899309\n",
              "3  628             2  ...          0.013699          0.255363\n",
              "4  947             3  ...          1.205087          1.116092\n",
              "\n",
              "[5 rows x 24 columns]"
            ]
          },
          "metadata": {},
          "execution_count": 4
        }
      ]
    },
    {
      "cell_type": "markdown",
      "source": [
        "Dari data diatas maka bisa didapat keterangan bahwa <br>\n",
        "x = X, jumlah_kartu, outstanding, limit_kredit, tagihan, total_pemakaian_tunai, total_pemakaian_retail, sisa_tagihan_tidak_terbayar, kode_cabang, rasio_pembayaran, persentasi_overlimit, rasio_pembayaran_3bulan, rasio_pembayaran_6bulan, skor_delikuensi, jumlah_tahun_sejak_pembukaan_kredit, total_pemakaian, sisa_tagihan_per_jumlah_kartu, sisa_tagihan_per_limit, total_pemakaian_per_limit, pemakaian_3bln_per_limit, pemakaian_6bln_per_limit, utilisasi_3bulan, utilisasi_6bulan.\t <br>\n",
        "y = flag_kredit_macet"
      ],
      "metadata": {
        "id": "0xEDc6Z1UgEc"
      }
    },
    {
      "cell_type": "markdown",
      "metadata": {
        "id": "fd42oBYAJ_ld"
      },
      "source": [
        "#### PROBLEM STATEMENT"
      ]
    },
    {
      "cell_type": "markdown",
      "source": [
        "#### Permasalahan\n",
        "> Analisa kredit adalah penilaian kelayakan terhadap pengaju kredit. Fungsi analisa kredit diantaranya sebagai dasar bank dalam menentukan diterimanya pengajuan kredit, menentukan tingkat suku bunga kredit jaminan serta jaminan yang disyaratkan untuk dipenuhi nasabah, dan evaluasi. Banyak faktor yang dipertimbangkan analis kredit sebelum memberikan rekomendasi menerima atau menolak sebuah kredit. **Bank A ingin membuat sistem penilaian kelayakan kredit secara otomatis** berdasarkan data yang mereka miliki. Penulis akan melakukan analisis klasifikasi dan melakukan prediksi flag_kredit_macet berdasarkan variabel yang ada."
      ],
      "metadata": {
        "id": "_0GMxhIm9JmF"
      }
    },
    {
      "cell_type": "markdown",
      "source": [
        "#### Deskripsi Data\n",
        "> 1. jumlah kartu: Jumlah kartu aktif yang dimiliki pelanggan.\n",
        "2. outstanding: Total saldo pemakaian kartu kredit.\n",
        "3. limit kredit: Jumlah maksimum limit kredit yang dapat digunakan.\n",
        "4. tagihan: Jumlah tagihan pada akhir bulan.\n",
        "5. total_pemakaian: Total pemakaian kartu kredit (tunai dan retail) pada bulan terakhir.\n",
        "6. total_pemakaian tunai: Total pemakaian transaksi tunai pada bulan terakhir *(cash advance)*.\n",
        "7. total_pemakaian_retail: Total pemakaian transaksi retail pada bulan terakhir.\n",
        "8. sisa_tagihan_tidak_terbayar: Jumlah tagihan tidak terbayar pada bulan terakhir.\n",
        "9. rasio_pembayaran: Rasio perbandingan jumlah yang dibayar dengan tagihan pada bulan terakhir.\n",
        "10. presentasi_overlimit: Presentasi overlimit.\n",
        "11. nomor_pelanggan: ID pelanggan.\n",
        "12. utilisasi_3bulan: Utilisasi kartu kredit selama 3 bulan terakhir.\n",
        "13. pemakaian_3bln_per_limit: Rata-rata pemakaian selama 3 bulan terakhir dibagi total limit.\n",
        "14. rasio_pembayaran_3bulan: Rata-rata rasio pembayaran 3 bulan terakhir.\n",
        "15. utilisasi_6bulan: Utilisasi kartu kredit selama 3 bulan sebelum 3 bulan terakhir.\n",
        "16. pemakaian_6bln_per_limit: Rata-rata pemakaian selama 3 bulan sebelum 3 bulan terakhir dibagi total limit.\n",
        "17. rasio_pembayaran_6bulan: Rata-rata rasio pembayaran 3 bulan sebelum 3 bulan terakhir.\n",
        "18. skor_pembayaran: Nilai yang dihitung berdasarkan jumlah minimum pembayaran yang dilakukan pelanggan dalam 6 bulan terakhir.\n",
        "19. sisa_tagihan_per_jumlah_kartu: Jumlah tagihan yang tidak terbayar pada bulan terakhir dibagi jumlah kartu aktif.\n",
        "20. sisa_tagihan_per_limit: Jumlah tagihan yang tidak terbayar pada bulan terakhir dibagi total limit.\n",
        "21. total_pemakaian_per_limit: Total pemakaian kartu kredit (tunai dan retail) pada bulan terakhir dibagi total limit.\n",
        "22. jumlah_tahun_sejak_pembuatan_kredit: Jumlah kredit sejak pembuatan kartu kredit pertama kali.\n",
        "23. flag_kredit_macet: Flag yang menandakan apakah kartu kredit macet atau tidak."
      ],
      "metadata": {
        "id": "va1-uRle_OSn"
      }
    },
    {
      "cell_type": "markdown",
      "metadata": {
        "id": "1LTjPkJzJ_lh"
      },
      "source": [
        "#### EDA"
      ]
    },
    {
      "cell_type": "code",
      "metadata": {
        "id": "3An3ZZ9qJ_lh",
        "colab": {
          "base_uri": "https://localhost:8080/"
        },
        "outputId": "43a93922-9800-4ef8-912e-c1ef285c7638"
      },
      "source": [
        "# Cek informasi yang terdapat di data\n",
        "df_train.info()"
      ],
      "execution_count": 5,
      "outputs": [
        {
          "output_type": "stream",
          "name": "stdout",
          "text": [
            "<class 'pandas.core.frame.DataFrame'>\n",
            "RangeIndex: 15343 entries, 0 to 15342\n",
            "Data columns (total 24 columns):\n",
            " #   Column                               Non-Null Count  Dtype  \n",
            "---  ------                               --------------  -----  \n",
            " 0   X                                    15343 non-null  int64  \n",
            " 1   jumlah_kartu                         15343 non-null  int64  \n",
            " 2   outstanding                          15343 non-null  int64  \n",
            " 3   limit_kredit                         15343 non-null  float64\n",
            " 4   tagihan                              15343 non-null  float64\n",
            " 5   total_pemakaian_tunai                15343 non-null  float64\n",
            " 6   total_pemakaian_retail               15343 non-null  float64\n",
            " 7   sisa_tagihan_tidak_terbayar          15343 non-null  float64\n",
            " 8   kode_cabang                          15243 non-null  object \n",
            " 9   rasio_pembayaran                     15343 non-null  float64\n",
            " 10  persentasi_overlimit                 15343 non-null  float64\n",
            " 11  rasio_pembayaran_3bulan              15343 non-null  float64\n",
            " 12  rasio_pembayaran_6bulan              15343 non-null  float64\n",
            " 13  skor_delikuensi                      15343 non-null  int64  \n",
            " 14  flag_kredit_macet                    15343 non-null  int64  \n",
            " 15  jumlah_tahun_sejak_pembukaan_kredit  15343 non-null  float64\n",
            " 16  total_pemakaian                      15343 non-null  float64\n",
            " 17  sisa_tagihan_per_jumlah_kartu        15343 non-null  float64\n",
            " 18  sisa_tagihan_per_limit               15343 non-null  float64\n",
            " 19  total_pemakaian_per_limit            15343 non-null  float64\n",
            " 20  pemakaian_3bln_per_limit             15343 non-null  float64\n",
            " 21  pemakaian_6bln_per_limit             15343 non-null  float64\n",
            " 22  utilisasi_3bulan                     15343 non-null  float64\n",
            " 23  utilisasi_6bulan                     15343 non-null  float64\n",
            "dtypes: float64(18), int64(5), object(1)\n",
            "memory usage: 2.8+ MB\n"
          ]
        }
      ]
    },
    {
      "cell_type": "markdown",
      "source": [
        "Dari info tersebut tidak terdapat missing value.  Selanjutnya akan dicari tahu, apakah nasabah yang memiliki kredit macet lebih banyak dibandingkan yang tidak atau sebaliknya ?"
      ],
      "metadata": {
        "id": "tPRPIR6lHlwn"
      }
    },
    {
      "cell_type": "code",
      "source": [
        "# Mencari perbandingan label/class\n",
        "df_train['flag_kredit_macet'].value_counts().plot.pie(autopct='%1.1f%%',shadow=True)\n",
        "plt.show()"
      ],
      "metadata": {
        "colab": {
          "base_uri": "https://localhost:8080/",
          "height": 248
        },
        "id": "VIwlBEXuXYjN",
        "outputId": "a64d2b9c-9092-430e-c05d-3586f5cccd73"
      },
      "execution_count": 6,
      "outputs": [
        {
          "output_type": "display_data",
          "data": {
            "image/png": "[encoded data removed]",
            "text/plain": [
              "<Figure size 432x288 with 1 Axes>"
            ]
          },
          "metadata": {}
        }
      ]
    },
    {
      "cell_type": "markdown",
      "source": [
        "Dari pie-chart tersebut, dapat diketahui bahwa nasabah yang memiliki kredit macet lebih sedikit, data ini sangat tidak seimbang. Oleh karena data ini tidak seimbang, maka pemodelan klasifikasi pada *capstone project* ini menggunakan teknik analisis data Regresi Logistik Univariat dengan Estimasi *maximum likelihood* (MLE). Menurut Mayadi [1] Estimasi *maximum likelihood* (MLE) pada regresi logistik dengan data respon sangat tidak seimbang ditentukan dengan mencari nilai maksimum persamaan sebagai berikut:\n",
        "\n",
        "![Estimasi MLE.png](data:image/png;base64,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)"
      ],
      "metadata": {
        "id": "UwVAqUiFXg8d"
      }
    },
    {
      "cell_type": "code",
      "source": [
        "# Analisa deskriptif\n",
        "df_train.describe()"
      ],
      "metadata": {
        "colab": {
          "base_uri": "https://localhost:8080/",
          "height": 364
        },
        "id": "gz3vEDYeeROh",
        "outputId": "3d3dc929-b4eb-4d5a-bdcc-5c5fcbec2869"
      },
      "execution_count": 7,
      "outputs": [
        {
          "output_type": "execute_result",
          "data": {
            "text/html": [
              "\n",
              "  <div id=\"df-f75e5410-5857-4508-8fd5-ac0176a1ffe0\">\n",
              "    <div class=\"colab-df-container\">\n",
              "      <div>\n",
              "<style scoped>\n",
              "    .dataframe tbody tr th:only-of-type {\n",
              "        vertical-align: middle;\n",
              "    }\n",
              "\n",
              "    .dataframe tbody tr th {\n",
              "        vertical-align: top;\n",
              "    }\n",
              "\n",
              "    .dataframe thead th {\n",
              "        text-align: right;\n",
              "    }\n",
              "</style>\n",
              "<table border=\"1\" class=\"dataframe\">\n",
              "  <thead>\n",
              "    <tr style=\"text-align: right;\">\n",
              "      <th></th>\n",
              "      <th>X</th>\n",
              "      <th>jumlah_kartu</th>\n",
              "      <th>outstanding</th>\n",
              "      <th>limit_kredit</th>\n",
              "      <th>tagihan</th>\n",
              "      <th>total_pemakaian_tunai</th>\n",
              "      <th>total_pemakaian_retail</th>\n",
              "      <th>sisa_tagihan_tidak_terbayar</th>\n",
              "      <th>rasio_pembayaran</th>\n",
              "      <th>persentasi_overlimit</th>\n",
              "      <th>rasio_pembayaran_3bulan</th>\n",
              "      <th>rasio_pembayaran_6bulan</th>\n",
              "      <th>skor_delikuensi</th>\n",
              "      <th>flag_kredit_macet</th>\n",
              "      <th>jumlah_tahun_sejak_pembukaan_kredit</th>\n",
              "      <th>total_pemakaian</th>\n",
              "      <th>sisa_tagihan_per_jumlah_kartu</th>\n",
              "      <th>sisa_tagihan_per_limit</th>\n",
              "      <th>total_pemakaian_per_limit</th>\n",
              "      <th>pemakaian_3bln_per_limit</th>\n",
              "      <th>pemakaian_6bln_per_limit</th>\n",
              "      <th>utilisasi_3bulan</th>\n",
              "      <th>utilisasi_6bulan</th>\n",
              "    </tr>\n",
              "  </thead>\n",
              "  <tbody>\n",
              "    <tr>\n",
              "      <th>count</th>\n",
              "      <td>15343.000000</td>\n",
              "      <td>15343.000000</td>\n",
              "      <td>1.534300e+04</td>\n",
              "      <td>1.534300e+04</td>\n",
              "      <td>1.534300e+04</td>\n",
              "      <td>1.534300e+04</td>\n",
              "      <td>1.534300e+04</td>\n",
              "      <td>1.534300e+04</td>\n",
              "      <td>15343.000000</td>\n",
              "      <td>15343.000000</td>\n",
              "      <td>15343.000000</td>\n",
              "      <td>15343.000000</td>\n",
              "      <td>15343.000000</td>\n",
              "      <td>15343.000000</td>\n",
              "      <td>15343.000000</td>\n",
              "      <td>1.534300e+04</td>\n",
              "      <td>1.534300e+04</td>\n",
              "      <td>15343.000000</td>\n",
              "      <td>15343.000000</td>\n",
              "      <td>15343.000000</td>\n",
              "      <td>15343.000000</td>\n",
              "      <td>15343.000000</td>\n",
              "      <td>15343.000000</td>\n",
              "    </tr>\n",
              "    <tr>\n",
              "      <th>mean</th>\n",
              "      <td>7750.138956</td>\n",
              "      <td>2.507332</td>\n",
              "      <td>1.160634e+07</td>\n",
              "      <td>2.081037e+07</td>\n",
              "      <td>8.087595e+06</td>\n",
              "      <td>7.468477e+04</td>\n",
              "      <td>2.032315e+06</td>\n",
              "      <td>8.138304e+06</td>\n",
              "      <td>64.482234</td>\n",
              "      <td>3.347169</td>\n",
              "      <td>50.539467</td>\n",
              "      <td>81.291786</td>\n",
              "      <td>0.004758</td>\n",
              "      <td>0.087597</td>\n",
              "      <td>6.636067</td>\n",
              "      <td>2.107030e+06</td>\n",
              "      <td>2.964641e+06</td>\n",
              "      <td>0.468332</td>\n",
              "      <td>0.109579</td>\n",
              "      <td>0.167506</td>\n",
              "      <td>0.202896</td>\n",
              "      <td>0.571362</td>\n",
              "      <td>0.534084</td>\n",
              "    </tr>\n",
              "    <tr>\n",
              "      <th>std</th>\n",
              "      <td>4472.966163</td>\n",
              "      <td>1.014525</td>\n",
              "      <td>2.415412e+07</td>\n",
              "      <td>2.960443e+07</td>\n",
              "      <td>1.766835e+07</td>\n",
              "      <td>6.205923e+05</td>\n",
              "      <td>7.959575e+06</td>\n",
              "      <td>1.925786e+07</td>\n",
              "      <td>797.324307</td>\n",
              "      <td>9.257389</td>\n",
              "      <td>1333.723881</td>\n",
              "      <td>1472.735798</td>\n",
              "      <td>0.114362</td>\n",
              "      <td>0.282717</td>\n",
              "      <td>4.682317</td>\n",
              "      <td>8.125462e+06</td>\n",
              "      <td>6.262742e+06</td>\n",
              "      <td>0.473221</td>\n",
              "      <td>0.200651</td>\n",
              "      <td>0.192300</td>\n",
              "      <td>0.275018</td>\n",
              "      <td>0.412303</td>\n",
              "      <td>0.432826</td>\n",
              "    </tr>\n",
              "    <tr>\n",
              "      <th>min</th>\n",
              "      <td>1.000000</td>\n",
              "      <td>1.000000</td>\n",
              "      <td>0.000000e+00</td>\n",
              "      <td>3.000000e+06</td>\n",
              "      <td>2.004300e+04</td>\n",
              "      <td>0.000000e+00</td>\n",
              "      <td>-1.566720e+07</td>\n",
              "      <td>0.000000e+00</td>\n",
              "      <td>-18138.000000</td>\n",
              "      <td>0.000000</td>\n",
              "      <td>-57792.340000</td>\n",
              "      <td>-77056.000000</td>\n",
              "      <td>0.000000</td>\n",
              "      <td>0.000000</td>\n",
              "      <td>0.750000</td>\n",
              "      <td>-1.566720e+07</td>\n",
              "      <td>0.000000e+00</td>\n",
              "      <td>0.000000</td>\n",
              "      <td>-0.632000</td>\n",
              "      <td>-0.126000</td>\n",
              "      <td>-0.569000</td>\n",
              "      <td>0.000288</td>\n",
              "      <td>0.000000</td>\n",
              "    </tr>\n",
              "    <tr>\n",
              "      <th>25%</th>\n",
              "      <td>3875.500000</td>\n",
              "      <td>2.000000</td>\n",
              "      <td>1.997592e+06</td>\n",
              "      <td>5.000000e+06</td>\n",
              "      <td>8.150830e+05</td>\n",
              "      <td>0.000000e+00</td>\n",
              "      <td>0.000000e+00</td>\n",
              "      <td>0.000000e+00</td>\n",
              "      <td>0.000000</td>\n",
              "      <td>0.000000</td>\n",
              "      <td>20.200000</td>\n",
              "      <td>21.600000</td>\n",
              "      <td>0.000000</td>\n",
              "      <td>0.000000</td>\n",
              "      <td>2.920000</td>\n",
              "      <td>0.000000e+00</td>\n",
              "      <td>0.000000e+00</td>\n",
              "      <td>0.000000</td>\n",
              "      <td>0.000000</td>\n",
              "      <td>0.035000</td>\n",
              "      <td>0.032900</td>\n",
              "      <td>0.189000</td>\n",
              "      <td>0.155000</td>\n",
              "    </tr>\n",
              "    <tr>\n",
              "      <th>50%</th>\n",
              "      <td>7752.000000</td>\n",
              "      <td>2.000000</td>\n",
              "      <td>4.724856e+06</td>\n",
              "      <td>9.000000e+06</td>\n",
              "      <td>3.141692e+06</td>\n",
              "      <td>0.000000e+00</td>\n",
              "      <td>2.010420e+05</td>\n",
              "      <td>2.750772e+06</td>\n",
              "      <td>26.900000</td>\n",
              "      <td>0.000000</td>\n",
              "      <td>50.000000</td>\n",
              "      <td>65.600000</td>\n",
              "      <td>0.000000</td>\n",
              "      <td>0.000000</td>\n",
              "      <td>5.666667</td>\n",
              "      <td>2.480000e+05</td>\n",
              "      <td>1.209318e+06</td>\n",
              "      <td>0.335929</td>\n",
              "      <td>0.022100</td>\n",
              "      <td>0.108000</td>\n",
              "      <td>0.117000</td>\n",
              "      <td>0.576000</td>\n",
              "      <td>0.496000</td>\n",
              "    </tr>\n",
              "    <tr>\n",
              "      <th>75%</th>\n",
              "      <td>11624.500000</td>\n",
              "      <td>3.000000</td>\n",
              "      <td>1.061836e+07</td>\n",
              "      <td>2.200000e+07</td>\n",
              "      <td>7.420343e+06</td>\n",
              "      <td>0.000000e+00</td>\n",
              "      <td>1.403758e+06</td>\n",
              "      <td>7.139904e+06</td>\n",
              "      <td>100.000000</td>\n",
              "      <td>1.070000</td>\n",
              "      <td>91.335000</td>\n",
              "      <td>100.000000</td>\n",
              "      <td>0.000000</td>\n",
              "      <td>0.000000</td>\n",
              "      <td>9.330000</td>\n",
              "      <td>1.513168e+06</td>\n",
              "      <td>3.083416e+06</td>\n",
              "      <td>0.930000</td>\n",
              "      <td>0.128000</td>\n",
              "      <td>0.239424</td>\n",
              "      <td>0.285000</td>\n",
              "      <td>0.917000</td>\n",
              "      <td>0.864000</td>\n",
              "    </tr>\n",
              "    <tr>\n",
              "      <th>max</th>\n",
              "      <td>15493.000000</td>\n",
              "      <td>16.000000</td>\n",
              "      <td>7.980586e+08</td>\n",
              "      <td>1.000000e+09</td>\n",
              "      <td>6.280000e+08</td>\n",
              "      <td>2.884057e+07</td>\n",
              "      <td>2.850000e+08</td>\n",
              "      <td>4.440000e+08</td>\n",
              "      <td>68983.000000</td>\n",
              "      <td>190.000000</td>\n",
              "      <td>75575.000000</td>\n",
              "      <td>54899.000000</td>\n",
              "      <td>5.000000</td>\n",
              "      <td>1.000000</td>\n",
              "      <td>34.416667</td>\n",
              "      <td>3.140000e+08</td>\n",
              "      <td>1.480000e+08</td>\n",
              "      <td>7.240000</td>\n",
              "      <td>4.600000</td>\n",
              "      <td>3.490000</td>\n",
              "      <td>8.110000</td>\n",
              "      <td>8.125671</td>\n",
              "      <td>9.730000</td>\n",
              "    </tr>\n",
              "  </tbody>\n",
              "</table>\n",
              "</div>\n",
              "      <button class=\"colab-df-convert\" onclick=\"convertToInteractive('df-f75e5410-5857-4508-8fd5-ac0176a1ffe0')\"\n",
              "              title=\"Convert this dataframe to an interactive table.\"\n",
              "              style=\"display:none;\">\n",
              "        \n",
              "  <svg xmlns=\"http://www.w3.org/2000/svg\" height=\"24px\"viewBox=\"0 0 24 24\"\n",
              "       width=\"24px\">\n",
              "    <path d=\"M0 0h24v24H0V0z\" fill=\"none\"/>\n",
              "    <path d=\"M18.56 5.44l.94 2.06.94-2.06 2.06-.94-2.06-.94-.94-2.06-.94 2.06-2.06.94zm-11 1L8.5 8.5l.94-2.06 2.06-.94-2.06-.94L8.5 2.5l-.94 2.06-2.06.94zm10 10l.94 2.06.94-2.06 2.06-.94-2.06-.94-.94-2.06-.94 2.06-2.06.94z\"/><path d=\"M17.41 7.96l-1.37-1.37c-.4-.4-.92-.59-1.43-.59-.52 0-1.04.2-1.43.59L10.3 9.45l-7.72 7.72c-.78.78-.78 2.05 0 2.83L4 21.41c.39.39.9.59 1.41.59.51 0 1.02-.2 1.41-.59l7.78-7.78 2.81-2.81c.8-.78.8-2.07 0-2.86zM5.41 20L4 18.59l7.72-7.72 1.47 1.35L5.41 20z\"/>\n",
              "  </svg>\n",
              "      </button>\n",
              "      \n",
              "  <style>\n",
              "    .colab-df-container {\n",
              "      display:flex;\n",
              "      flex-wrap:wrap;\n",
              "      gap: 12px;\n",
              "    }\n",
              "\n",
              "    .colab-df-convert {\n",
              "      background-color: #E8F0FE;\n",
              "      border: none;\n",
              "      border-radius: 50%;\n",
              "      cursor: pointer;\n",
              "      display: none;\n",
              "      fill: #1967D2;\n",
              "      height: 32px;\n",
              "      padding: 0 0 0 0;\n",
              "      width: 32px;\n",
              "    }\n",
              "\n",
              "    .colab-df-convert:hover {\n",
              "      background-color: #E2EBFA;\n",
              "      box-shadow: 0px 1px 2px rgba(60, 64, 67, 0.3), 0px 1px 3px 1px rgba(60, 64, 67, 0.15);\n",
              "      fill: #174EA6;\n",
              "    }\n",
              "\n",
              "    [theme=dark] .colab-df-convert {\n",
              "      background-color: #3B4455;\n",
              "      fill: #D2E3FC;\n",
              "    }\n",
              "\n",
              "    [theme=dark] .colab-df-convert:hover {\n",
              "      background-color: #434B5C;\n",
              "      box-shadow: 0px 1px 3px 1px rgba(0, 0, 0, 0.15);\n",
              "      filter: drop-shadow(0px 1px 2px rgba(0, 0, 0, 0.3));\n",
              "      fill: #FFFFFF;\n",
              "    }\n",
              "  </style>\n",
              "\n",
              "      <script>\n",
              "        const buttonEl =\n",
              "          document.querySelector('#df-f75e5410-5857-4508-8fd5-ac0176a1ffe0 button.colab-df-convert');\n",
              "        buttonEl.style.display =\n",
              "          google.colab.kernel.accessAllowed ? 'block' : 'none';\n",
              "\n",
              "        async function convertToInteractive(key) {\n",
              "          const element = document.querySelector('#df-f75e5410-5857-4508-8fd5-ac0176a1ffe0');\n",
              "          const dataTable =\n",
              "            await google.colab.kernel.invokeFunction('convertToInteractive',\n",
              "                                                     [key], {});\n",
              "          if (!dataTable) return;\n",
              "\n",
              "          const docLinkHtml = 'Like what you see? Visit the ' +\n",
              "            '<a target=\"_blank\" href=https://colab.research.google.com/notebooks/data_table.ipynb>data table notebook</a>'\n",
              "            + ' to learn more about interactive tables.';\n",
              "          element.innerHTML = '';\n",
              "          dataTable['output_type'] = 'display_data';\n",
              "          await google.colab.output.renderOutput(dataTable, element);\n",
              "          const docLink = document.createElement('div');\n",
              "          docLink.innerHTML = docLinkHtml;\n",
              "          element.appendChild(docLink);\n",
              "        }\n",
              "      </script>\n",
              "    </div>\n",
              "  </div>\n",
              "  "
            ],
            "text/plain": [
              "                  X  jumlah_kartu  ...  utilisasi_3bulan  utilisasi_6bulan\n",
              "count  15343.000000  15343.000000  ...      15343.000000      15343.000000\n",
              "mean    7750.138956      2.507332  ...          0.571362          0.534084\n",
              "std     4472.966163      1.014525  ...          0.412303          0.432826\n",
              "min        1.000000      1.000000  ...          0.000288          0.000000\n",
              "25%     3875.500000      2.000000  ...          0.189000          0.155000\n",
              "50%     7752.000000      2.000000  ...          0.576000          0.496000\n",
              "75%    11624.500000      3.000000  ...          0.917000          0.864000\n",
              "max    15493.000000     16.000000  ...          8.125671          9.730000\n",
              "\n",
              "[8 rows x 23 columns]"
            ]
          },
          "metadata": {},
          "execution_count": 7
        }
      ]
    },
    {
      "cell_type": "markdown",
      "source": [
        "Interpretasi: \n",
        "*   Dari variabel flag_kredit_macet, memiliki nilai rata-rata sebesar 0.087597 dan nilai standar deviasi sebesar 0.282717.\n",
        "*   Sedangkan pada variabel jumlah_kartu, kartu kredit paling banyak dimiliki oleh satu nasaban adalah 16 kartu, dan rata-rata kartu kredit yang dimiliki oleh nasabah pada sampel yang dianalisis adalah 2.507332 (dibulatkan 2) kartu."
      ],
      "metadata": {
        "id": "rQIHVTtyeZYg"
      }
    },
    {
      "cell_type": "code",
      "source": [
        "# Buat Crosstab antara flag_kredit_macet dengan jumlah_kartu\n",
        "jumlah_kartu_flag_kredit_macet = pd.crosstab(df_train['flag_kredit_macet'], (df_train['jumlah_kartu']))\n",
        "\n",
        "# Buat hasil crosstab menjadi dataframe\n",
        "stacked = jumlah_kartu_flag_kredit_macet.stack().reset_index().rename(columns={0:'Count'})\n",
        "sns.barplot(x=stacked.flag_kredit_macet, y=stacked.Count, hue=stacked.jumlah_kartu)\n",
        "plt.show()"
      ],
      "metadata": {
        "colab": {
          "base_uri": "https://localhost:8080/",
          "height": 312
        },
        "id": "NTa0K46CgjI0",
        "outputId": "5e03e892-0a59-49cd-89b1-7b56aea66580"
      },
      "execution_count": 8,
      "outputs": [
        {
          "output_type": "display_data",
          "data": {
            "image/png": "[encoded data removed]",
            "text/plain": [
              "<Figure size 432x288 with 1 Axes>"
            ]
          },
          "metadata": {
            "needs_background": "light"
          }
        }
      ]
    },
    {
      "cell_type": "markdown",
      "source": [
        "Jika dilihat dari barplot crosstab tersebut, tidak ada perbedaan yang signifikan secara rasio, antara jumlah kartu kredit nasabah dengan kelompok 0 (nasabah yang kreditnya lancar) dan kelompok 1 (nasabah yang kreditnya macet), meskipun jumlah data sampel *unbalanced*."
      ],
      "metadata": {
        "id": "Th2tp9fShiVM"
      }
    },
    {
      "cell_type": "code",
      "source": [
        "# Boxplot jumlah_kartu dengan flag_kredit_macet\n",
        "sns.boxplot(x=\"flag_kredit_macet\", y=\"jumlah_kartu\", data=df_train)"
      ],
      "metadata": {
        "colab": {
          "base_uri": "https://localhost:8080/",
          "height": 297
        },
        "id": "nAlvWSotmyzY",
        "outputId": "95cd58ce-8115-4267-b35e-4d65dafee94b"
      },
      "execution_count": 9,
      "outputs": [
        {
          "output_type": "execute_result",
          "data": {
            "text/plain": [
              "<matplotlib.axes._subplots.AxesSubplot at 0x7f5519f03c50>"
            ]
          },
          "metadata": {},
          "execution_count": 9
        },
        {
          "output_type": "display_data",
          "data": {
            "image/png": "[encoded data removed]",
            "text/plain": [
              "<Figure size 432x288 with 1 Axes>"
            ]
          },
          "metadata": {
            "needs_background": "light"
          }
        }
      ]
    },
    {
      "cell_type": "markdown",
      "source": [
        "Jika dilihat dari boxplot tersebut, juga tidak ada perbedaan yang signifikan secara rasio, antara jumlah kartu kredit nasabah dengan kelompok 0 (nasabah yang kreditnya lancar) dan kelompok 1 (nasabah yang kreditnya macet), meskipun pada kelompok 0 lebih banyak memiliki data yang *outlier*."
      ],
      "metadata": {
        "id": "bRY7X6ThoHCZ"
      }
    },
    {
      "cell_type": "markdown",
      "metadata": {
        "id": "YCOLd_9KJ_lg"
      },
      "source": [
        "#### DATA PRE-PROCESSING"
      ]
    },
    {
      "cell_type": "markdown",
      "source": [
        "*Missing value*"
      ],
      "metadata": {
        "id": "1-N7NyY5jH0F"
      }
    },
    {
      "cell_type": "code",
      "metadata": {
        "id": "npD283TpJ_lh",
        "colab": {
          "base_uri": "https://localhost:8080/"
        },
        "outputId": "d0b9c2e4-6244-4b8c-bb72-eeda038fe980"
      },
      "source": [
        "# Mengecek berapa jumlah null value pada masing masing kolom. \n",
        "jumlah_missing = pd.isnull(df_train).sum()\n",
        "jumlah_missing"
      ],
      "execution_count": 10,
      "outputs": [
        {
          "output_type": "execute_result",
          "data": {
            "text/plain": [
              "X                                        0\n",
              "jumlah_kartu                             0\n",
              "outstanding                              0\n",
              "limit_kredit                             0\n",
              "tagihan                                  0\n",
              "total_pemakaian_tunai                    0\n",
              "total_pemakaian_retail                   0\n",
              "sisa_tagihan_tidak_terbayar              0\n",
              "kode_cabang                            100\n",
              "rasio_pembayaran                         0\n",
              "persentasi_overlimit                     0\n",
              "rasio_pembayaran_3bulan                  0\n",
              "rasio_pembayaran_6bulan                  0\n",
              "skor_delikuensi                          0\n",
              "flag_kredit_macet                        0\n",
              "jumlah_tahun_sejak_pembukaan_kredit      0\n",
              "total_pemakaian                          0\n",
              "sisa_tagihan_per_jumlah_kartu            0\n",
              "sisa_tagihan_per_limit                   0\n",
              "total_pemakaian_per_limit                0\n",
              "pemakaian_3bln_per_limit                 0\n",
              "pemakaian_6bln_per_limit                 0\n",
              "utilisasi_3bulan                         0\n",
              "utilisasi_6bulan                         0\n",
              "dtype: int64"
            ]
          },
          "metadata": {},
          "execution_count": 10
        }
      ]
    },
    {
      "cell_type": "code",
      "source": [
        "# menghitung ratio missing value pada metrics masing masing kolom. \n",
        "rasio = jumlah_missing.div(len(df_train))\n",
        "rasio"
      ],
      "metadata": {
        "colab": {
          "base_uri": "https://localhost:8080/"
        },
        "id": "W-TiY_WtkRwV",
        "outputId": "540931c8-1aac-4a4c-dfbe-d2d52fe61b2f"
      },
      "execution_count": 11,
      "outputs": [
        {
          "output_type": "execute_result",
          "data": {
            "text/plain": [
              "X                                      0.000000\n",
              "jumlah_kartu                           0.000000\n",
              "outstanding                            0.000000\n",
              "limit_kredit                           0.000000\n",
              "tagihan                                0.000000\n",
              "total_pemakaian_tunai                  0.000000\n",
              "total_pemakaian_retail                 0.000000\n",
              "sisa_tagihan_tidak_terbayar            0.000000\n",
              "kode_cabang                            0.006518\n",
              "rasio_pembayaran                       0.000000\n",
              "persentasi_overlimit                   0.000000\n",
              "rasio_pembayaran_3bulan                0.000000\n",
              "rasio_pembayaran_6bulan                0.000000\n",
              "skor_delikuensi                        0.000000\n",
              "flag_kredit_macet                      0.000000\n",
              "jumlah_tahun_sejak_pembukaan_kredit    0.000000\n",
              "total_pemakaian                        0.000000\n",
              "sisa_tagihan_per_jumlah_kartu          0.000000\n",
              "sisa_tagihan_per_limit                 0.000000\n",
              "total_pemakaian_per_limit              0.000000\n",
              "pemakaian_3bln_per_limit               0.000000\n",
              "pemakaian_6bln_per_limit               0.000000\n",
              "utilisasi_3bulan                       0.000000\n",
              "utilisasi_6bulan                       0.000000\n",
              "dtype: float64"
            ]
          },
          "metadata": {},
          "execution_count": 11
        }
      ]
    },
    {
      "cell_type": "markdown",
      "source": [
        "Kolom kode_cabang memiliki jumlah missing value hingga 0,65% sehingga, *missing value* pada kolom kode_cabang lebih baik tidak dihilangkan (drop) dari table."
      ],
      "metadata": {
        "id": "uOQdiKHOkkBl"
      }
    },
    {
      "cell_type": "markdown",
      "source": [
        "Cek Data *Duplicate*"
      ],
      "metadata": {
        "id": "oZFeZWqql1p0"
      }
    },
    {
      "cell_type": "code",
      "source": [
        "# Cek data duplicate dari dataframe\n",
        "df_train[df_train.duplicated(keep=False)]"
      ],
      "metadata": {
        "colab": {
          "base_uri": "https://localhost:8080/",
          "height": 113
        },
        "id": "QgLM8aD-j0Mg",
        "outputId": "a9541c9d-3335-4ea6-ab3f-64d4ce912d48"
      },
      "execution_count": 12,
      "outputs": [
        {
          "output_type": "execute_result",
          "data": {
            "text/html": [
              "\n",
              "  <div id=\"df-700f930d-9e98-4453-9142-9e29a2f102c1\">\n",
              "    <div class=\"colab-df-container\">\n",
              "      <div>\n",
              "<style scoped>\n",
              "    .dataframe tbody tr th:only-of-type {\n",
              "        vertical-align: middle;\n",
              "    }\n",
              "\n",
              "    .dataframe tbody tr th {\n",
              "        vertical-align: top;\n",
              "    }\n",
              "\n",
              "    .dataframe thead th {\n",
              "        text-align: right;\n",
              "    }\n",
              "</style>\n",
              "<table border=\"1\" class=\"dataframe\">\n",
              "  <thead>\n",
              "    <tr style=\"text-align: right;\">\n",
              "      <th></th>\n",
              "      <th>X</th>\n",
              "      <th>jumlah_kartu</th>\n",
              "      <th>outstanding</th>\n",
              "      <th>limit_kredit</th>\n",
              "      <th>tagihan</th>\n",
              "      <th>total_pemakaian_tunai</th>\n",
              "      <th>total_pemakaian_retail</th>\n",
              "      <th>sisa_tagihan_tidak_terbayar</th>\n",
              "      <th>kode_cabang</th>\n",
              "      <th>rasio_pembayaran</th>\n",
              "      <th>persentasi_overlimit</th>\n",
              "      <th>rasio_pembayaran_3bulan</th>\n",
              "      <th>rasio_pembayaran_6bulan</th>\n",
              "      <th>skor_delikuensi</th>\n",
              "      <th>flag_kredit_macet</th>\n",
              "      <th>jumlah_tahun_sejak_pembukaan_kredit</th>\n",
              "      <th>total_pemakaian</th>\n",
              "      <th>sisa_tagihan_per_jumlah_kartu</th>\n",
              "      <th>sisa_tagihan_per_limit</th>\n",
              "      <th>total_pemakaian_per_limit</th>\n",
              "      <th>pemakaian_3bln_per_limit</th>\n",
              "      <th>pemakaian_6bln_per_limit</th>\n",
              "      <th>utilisasi_3bulan</th>\n",
              "      <th>utilisasi_6bulan</th>\n",
              "    </tr>\n",
              "  </thead>\n",
              "  <tbody>\n",
              "  </tbody>\n",
              "</table>\n",
              "</div>\n",
              "      <button class=\"colab-df-convert\" onclick=\"convertToInteractive('df-700f930d-9e98-4453-9142-9e29a2f102c1')\"\n",
              "              title=\"Convert this dataframe to an interactive table.\"\n",
              "              style=\"display:none;\">\n",
              "        \n",
              "  <svg xmlns=\"http://www.w3.org/2000/svg\" height=\"24px\"viewBox=\"0 0 24 24\"\n",
              "       width=\"24px\">\n",
              "    <path d=\"M0 0h24v24H0V0z\" fill=\"none\"/>\n",
              "    <path d=\"M18.56 5.44l.94 2.06.94-2.06 2.06-.94-2.06-.94-.94-2.06-.94 2.06-2.06.94zm-11 1L8.5 8.5l.94-2.06 2.06-.94-2.06-.94L8.5 2.5l-.94 2.06-2.06.94zm10 10l.94 2.06.94-2.06 2.06-.94-2.06-.94-.94-2.06-.94 2.06-2.06.94z\"/><path d=\"M17.41 7.96l-1.37-1.37c-.4-.4-.92-.59-1.43-.59-.52 0-1.04.2-1.43.59L10.3 9.45l-7.72 7.72c-.78.78-.78 2.05 0 2.83L4 21.41c.39.39.9.59 1.41.59.51 0 1.02-.2 1.41-.59l7.78-7.78 2.81-2.81c.8-.78.8-2.07 0-2.86zM5.41 20L4 18.59l7.72-7.72 1.47 1.35L5.41 20z\"/>\n",
              "  </svg>\n",
              "      </button>\n",
              "      \n",
              "  <style>\n",
              "    .colab-df-container {\n",
              "      display:flex;\n",
              "      flex-wrap:wrap;\n",
              "      gap: 12px;\n",
              "    }\n",
              "\n",
              "    .colab-df-convert {\n",
              "      background-color: #E8F0FE;\n",
              "      border: none;\n",
              "      border-radius: 50%;\n",
              "      cursor: pointer;\n",
              "      display: none;\n",
              "      fill: #1967D2;\n",
              "      height: 32px;\n",
              "      padding: 0 0 0 0;\n",
              "      width: 32px;\n",
              "    }\n",
              "\n",
              "    .colab-df-convert:hover {\n",
              "      background-color: #E2EBFA;\n",
              "      box-shadow: 0px 1px 2px rgba(60, 64, 67, 0.3), 0px 1px 3px 1px rgba(60, 64, 67, 0.15);\n",
              "      fill: #174EA6;\n",
              "    }\n",
              "\n",
              "    [theme=dark] .colab-df-convert {\n",
              "      background-color: #3B4455;\n",
              "      fill: #D2E3FC;\n",
              "    }\n",
              "\n",
              "    [theme=dark] .colab-df-convert:hover {\n",
              "      background-color: #434B5C;\n",
              "      box-shadow: 0px 1px 3px 1px rgba(0, 0, 0, 0.15);\n",
              "      filter: drop-shadow(0px 1px 2px rgba(0, 0, 0, 0.3));\n",
              "      fill: #FFFFFF;\n",
              "    }\n",
              "  </style>\n",
              "\n",
              "      <script>\n",
              "        const buttonEl =\n",
              "          document.querySelector('#df-700f930d-9e98-4453-9142-9e29a2f102c1 button.colab-df-convert');\n",
              "        buttonEl.style.display =\n",
              "          google.colab.kernel.accessAllowed ? 'block' : 'none';\n",
              "\n",
              "        async function convertToInteractive(key) {\n",
              "          const element = document.querySelector('#df-700f930d-9e98-4453-9142-9e29a2f102c1');\n",
              "          const dataTable =\n",
              "            await google.colab.kernel.invokeFunction('convertToInteractive',\n",
              "                                                     [key], {});\n",
              "          if (!dataTable) return;\n",
              "\n",
              "          const docLinkHtml = 'Like what you see? Visit the ' +\n",
              "            '<a target=\"_blank\" href=https://colab.research.google.com/notebooks/data_table.ipynb>data table notebook</a>'\n",
              "            + ' to learn more about interactive tables.';\n",
              "          element.innerHTML = '';\n",
              "          dataTable['output_type'] = 'display_data';\n",
              "          await google.colab.output.renderOutput(dataTable, element);\n",
              "          const docLink = document.createElement('div');\n",
              "          docLink.innerHTML = docLinkHtml;\n",
              "          element.appendChild(docLink);\n",
              "        }\n",
              "      </script>\n",
              "    </div>\n",
              "  </div>\n",
              "  "
            ],
            "text/plain": [
              "Empty DataFrame\n",
              "Columns: [X, jumlah_kartu, outstanding, limit_kredit, tagihan, total_pemakaian_tunai, total_pemakaian_retail, sisa_tagihan_tidak_terbayar, kode_cabang, rasio_pembayaran, persentasi_overlimit, rasio_pembayaran_3bulan, rasio_pembayaran_6bulan, skor_delikuensi, flag_kredit_macet, jumlah_tahun_sejak_pembukaan_kredit, total_pemakaian, sisa_tagihan_per_jumlah_kartu, sisa_tagihan_per_limit, total_pemakaian_per_limit, pemakaian_3bln_per_limit, pemakaian_6bln_per_limit, utilisasi_3bulan, utilisasi_6bulan]\n",
              "Index: []"
            ]
          },
          "metadata": {},
          "execution_count": 12
        }
      ]
    },
    {
      "cell_type": "markdown",
      "source": [
        "Tidak ada data yang terduplikasi dalam sampel ini"
      ],
      "metadata": {
        "id": "c86PTamJmBIM"
      }
    },
    {
      "cell_type": "markdown",
      "source": [
        "Cek Korelasi"
      ],
      "metadata": {
        "id": "Ofpr8Irll6br"
      }
    },
    {
      "cell_type": "code",
      "source": [
        "# Melakukan perhitungan nilai korelasi dengan mengasumsikan data adalah data interval.\n",
        "sns.heatmap(df_train.corr(),linewidths=.5,annot=True,cmap='RdYlGn')\n",
        "fig=plt.gcf()\n",
        "fig.set_size_inches(15,8)\n",
        "plt.show()"
      ],
      "metadata": {
        "colab": {
          "base_uri": "https://localhost:8080/",
          "height": 674
        },
        "id": "LMyo_h_rl58M",
        "outputId": "eb74e8de-679c-488f-ce35-3444eeab6a42"
      },
      "execution_count": 13,
      "outputs": [
        {
          "output_type": "display_data",
          "data": {
            "image/png": "[encoded data removed]",
            "text/plain": [
              "<Figure size 1080x576 with 2 Axes>"
            ]
          },
          "metadata": {
            "needs_background": "light"
          }
        }
      ]
    },
    {
      "cell_type": "code",
      "source": [
        "# Cek urutan korelasi terendah ke tertinggi\n",
        "korelasi = df_train.corr()[\"flag_kredit_macet\"].sort_values()\n",
        "korelasi"
      ],
      "metadata": {
        "colab": {
          "base_uri": "https://localhost:8080/"
        },
        "id": "r_vQ9Q3TmFD1",
        "outputId": "d8ca95ed-ed53-4600-f30d-321c82e3575a"
      },
      "execution_count": 14,
      "outputs": [
        {
          "output_type": "execute_result",
          "data": {
            "text/plain": [
              "total_pemakaian_per_limit             -0.116207\n",
              "pemakaian_3bln_per_limit              -0.067138\n",
              "total_pemakaian_retail                -0.049683\n",
              "total_pemakaian                       -0.047419\n",
              "rasio_pembayaran                      -0.020056\n",
              "X                                     -0.012438\n",
              "rasio_pembayaran_6bulan               -0.008569\n",
              "rasio_pembayaran_3bulan               -0.006857\n",
              "jumlah_tahun_sejak_pembukaan_kredit   -0.000222\n",
              "skor_delikuensi                        0.003236\n",
              "total_pemakaian_tunai                  0.016374\n",
              "pemakaian_6bln_per_limit               0.018036\n",
              "jumlah_kartu                           0.023667\n",
              "limit_kredit                           0.030994\n",
              "outstanding                            0.089344\n",
              "utilisasi_6bulan                       0.096429\n",
              "utilisasi_3bulan                       0.103251\n",
              "tagihan                                0.107561\n",
              "sisa_tagihan_per_jumlah_kartu          0.122347\n",
              "sisa_tagihan_tidak_terbayar            0.129020\n",
              "sisa_tagihan_per_limit                 0.138163\n",
              "persentasi_overlimit                   0.143785\n",
              "flag_kredit_macet                      1.000000\n",
              "Name: flag_kredit_macet, dtype: float64"
            ]
          },
          "metadata": {},
          "execution_count": 14
        }
      ]
    },
    {
      "cell_type": "markdown",
      "source": [
        "Dari *output* diatas dapat diketahui bahwa variabel flag_kredit_macet memiliki korelasi yang rendah dengan variabel jumlah_kartu yaitu dengan nilai sebesar 0,023667."
      ],
      "metadata": {
        "id": "y_fvbPF6mkyW"
      }
    },
    {
      "cell_type": "markdown",
      "metadata": {
        "id": "31xYfZiLJ_li"
      },
      "source": [
        "#### FEATURE ENGINEERING"
      ]
    },
    {
      "cell_type": "markdown",
      "source": [
        "Data pada variabel  flag_kredit_macet tidak seimbang, maka pemodelan klasifikasi pada capstone project ini menggunakan teknik analisis data Regresi Logistik Univariat dengan Estimasi maximum likelihood (MLE) sesuai dengan saran Mayadi [1]. Oleh sebab itu, penulis perlu melakukan *feature selection*. Menurut admin [2] *feature selection* adalah Adalah proses memilih subset (yang relevant terhadap problem) dari set features yang ada, tanpa melakukan transformasi. *Feature selection* dilakukan menggunakan definisi operasional variabel sebagai berikut:\n",
        "\n",
        "*   flag_kredit_macet sebagai variabel dependen (Y, 0 = Kredit Lancar dan 1 = Kredit Macet).\n",
        "*   jumlah_kartu sebagai variabel independen (X). \n",
        "\n",
        "Pada capstone project ini tidak dilakukan penambahan variabel baru, karena teknik analisis data yang digunakan adalah Regresi Logistik Univariat dengan Estimasi *maximum likelihood* (MLE).\n",
        "\n"
      ],
      "metadata": {
        "id": "RZDBjuILnVjp"
      }
    },
    {
      "cell_type": "code",
      "source": [
        "# Mendefinisikan variabel dependen dan variabel independen\n",
        "y_train = df_train['flag_kredit_macet']\n",
        "x_train = df_train['jumlah_kartu']"
      ],
      "metadata": {
        "id": "g9oYpYk_aEHf"
      },
      "execution_count": 15,
      "outputs": []
    },
    {
      "cell_type": "markdown",
      "metadata": {
        "id": "5w3A1_M7J_lj"
      },
      "source": [
        "#### MODELING"
      ]
    },
    {
      "cell_type": "code",
      "metadata": {
        "id": "HxVM-E6kJ_lk",
        "colab": {
          "base_uri": "https://localhost:8080/",
          "height": 206
        },
        "outputId": "1445e602-ab2d-4ffc-aa3f-1a76920d3e08"
      },
      "source": [
        "# Membuat dataframe train regression\n",
        "df_train_regression = pd.DataFrame({'x_train':x_train, 'y_train':y_train})\n",
        "df_train_regression.head()"
      ],
      "execution_count": 16,
      "outputs": [
        {
          "output_type": "execute_result",
          "data": {
            "text/html": [
              "\n",
              "  <div id=\"df-a3c04eb2-023a-4b2a-b84a-73a3971d3b16\">\n",
              "    <div class=\"colab-df-container\">\n",
              "      <div>\n",
              "<style scoped>\n",
              "    .dataframe tbody tr th:only-of-type {\n",
              "        vertical-align: middle;\n",
              "    }\n",
              "\n",
              "    .dataframe tbody tr th {\n",
              "        vertical-align: top;\n",
              "    }\n",
              "\n",
              "    .dataframe thead th {\n",
              "        text-align: right;\n",
              "    }\n",
              "</style>\n",
              "<table border=\"1\" class=\"dataframe\">\n",
              "  <thead>\n",
              "    <tr style=\"text-align: right;\">\n",
              "      <th></th>\n",
              "      <th>x_train</th>\n",
              "      <th>y_train</th>\n",
              "    </tr>\n",
              "  </thead>\n",
              "  <tbody>\n",
              "    <tr>\n",
              "      <th>0</th>\n",
              "      <td>5</td>\n",
              "      <td>0</td>\n",
              "    </tr>\n",
              "    <tr>\n",
              "      <th>1</th>\n",
              "      <td>2</td>\n",
              "      <td>0</td>\n",
              "    </tr>\n",
              "    <tr>\n",
              "      <th>2</th>\n",
              "      <td>1</td>\n",
              "      <td>0</td>\n",
              "    </tr>\n",
              "    <tr>\n",
              "      <th>3</th>\n",
              "      <td>2</td>\n",
              "      <td>0</td>\n",
              "    </tr>\n",
              "    <tr>\n",
              "      <th>4</th>\n",
              "      <td>3</td>\n",
              "      <td>1</td>\n",
              "    </tr>\n",
              "  </tbody>\n",
              "</table>\n",
              "</div>\n",
              "      <button class=\"colab-df-convert\" onclick=\"convertToInteractive('df-a3c04eb2-023a-4b2a-b84a-73a3971d3b16')\"\n",
              "              title=\"Convert this dataframe to an interactive table.\"\n",
              "              style=\"display:none;\">\n",
              "        \n",
              "  <svg xmlns=\"http://www.w3.org/2000/svg\" height=\"24px\"viewBox=\"0 0 24 24\"\n",
              "       width=\"24px\">\n",
              "    <path d=\"M0 0h24v24H0V0z\" fill=\"none\"/>\n",
              "    <path d=\"M18.56 5.44l.94 2.06.94-2.06 2.06-.94-2.06-.94-.94-2.06-.94 2.06-2.06.94zm-11 1L8.5 8.5l.94-2.06 2.06-.94-2.06-.94L8.5 2.5l-.94 2.06-2.06.94zm10 10l.94 2.06.94-2.06 2.06-.94-2.06-.94-.94-2.06-.94 2.06-2.06.94z\"/><path d=\"M17.41 7.96l-1.37-1.37c-.4-.4-.92-.59-1.43-.59-.52 0-1.04.2-1.43.59L10.3 9.45l-7.72 7.72c-.78.78-.78 2.05 0 2.83L4 21.41c.39.39.9.59 1.41.59.51 0 1.02-.2 1.41-.59l7.78-7.78 2.81-2.81c.8-.78.8-2.07 0-2.86zM5.41 20L4 18.59l7.72-7.72 1.47 1.35L5.41 20z\"/>\n",
              "  </svg>\n",
              "      </button>\n",
              "      \n",
              "  <style>\n",
              "    .colab-df-container {\n",
              "      display:flex;\n",
              "      flex-wrap:wrap;\n",
              "      gap: 12px;\n",
              "    }\n",
              "\n",
              "    .colab-df-convert {\n",
              "      background-color: #E8F0FE;\n",
              "      border: none;\n",
              "      border-radius: 50%;\n",
              "      cursor: pointer;\n",
              "      display: none;\n",
              "      fill: #1967D2;\n",
              "      height: 32px;\n",
              "      padding: 0 0 0 0;\n",
              "      width: 32px;\n",
              "    }\n",
              "\n",
              "    .colab-df-convert:hover {\n",
              "      background-color: #E2EBFA;\n",
              "      box-shadow: 0px 1px 2px rgba(60, 64, 67, 0.3), 0px 1px 3px 1px rgba(60, 64, 67, 0.15);\n",
              "      fill: #174EA6;\n",
              "    }\n",
              "\n",
              "    [theme=dark] .colab-df-convert {\n",
              "      background-color: #3B4455;\n",
              "      fill: #D2E3FC;\n",
              "    }\n",
              "\n",
              "    [theme=dark] .colab-df-convert:hover {\n",
              "      background-color: #434B5C;\n",
              "      box-shadow: 0px 1px 3px 1px rgba(0, 0, 0, 0.15);\n",
              "      filter: drop-shadow(0px 1px 2px rgba(0, 0, 0, 0.3));\n",
              "      fill: #FFFFFF;\n",
              "    }\n",
              "  </style>\n",
              "\n",
              "      <script>\n",
              "        const buttonEl =\n",
              "          document.querySelector('#df-a3c04eb2-023a-4b2a-b84a-73a3971d3b16 button.colab-df-convert');\n",
              "        buttonEl.style.display =\n",
              "          google.colab.kernel.accessAllowed ? 'block' : 'none';\n",
              "\n",
              "        async function convertToInteractive(key) {\n",
              "          const element = document.querySelector('#df-a3c04eb2-023a-4b2a-b84a-73a3971d3b16');\n",
              "          const dataTable =\n",
              "            await google.colab.kernel.invokeFunction('convertToInteractive',\n",
              "                                                     [key], {});\n",
              "          if (!dataTable) return;\n",
              "\n",
              "          const docLinkHtml = 'Like what you see? Visit the ' +\n",
              "            '<a target=\"_blank\" href=https://colab.research.google.com/notebooks/data_table.ipynb>data table notebook</a>'\n",
              "            + ' to learn more about interactive tables.';\n",
              "          element.innerHTML = '';\n",
              "          dataTable['output_type'] = 'display_data';\n",
              "          await google.colab.output.renderOutput(dataTable, element);\n",
              "          const docLink = document.createElement('div');\n",
              "          docLink.innerHTML = docLinkHtml;\n",
              "          element.appendChild(docLink);\n",
              "        }\n",
              "      </script>\n",
              "    </div>\n",
              "  </div>\n",
              "  "
            ],
            "text/plain": [
              "   x_train  y_train\n",
              "0        5        0\n",
              "1        2        0\n",
              "2        1        0\n",
              "3        2        0\n",
              "4        3        1"
            ]
          },
          "metadata": {},
          "execution_count": 16
        }
      ]
    },
    {
      "cell_type": "markdown",
      "source": [
        "Stats Model (*Logistic Regression* dengan metode *Maximum Likelihood*)"
      ],
      "metadata": {
        "id": "toeUqavmsK9j"
      }
    },
    {
      "cell_type": "markdown",
      "source": [
        "Modul rujukan dapat diakses di: https://www.statsmodels.org/dev/discretemod.html [3]"
      ],
      "metadata": {
        "id": "B8Uuf-Sh1L6B"
      }
    },
    {
      "cell_type": "code",
      "source": [
        "# Melakukan estimasi Logit Regression dengan metode Maximum Likelihood\n",
        "model = sm.Logit(y_train, x_train)\n",
        "result = model.fit()\n",
        "\n",
        "print(result.summary())"
      ],
      "metadata": {
        "colab": {
          "base_uri": "https://localhost:8080/"
        },
        "id": "76WZMk4jAZ8A",
        "outputId": "280a31b0-41b0-4d81-f30c-ae5d21c190bd"
      },
      "execution_count": 17,
      "outputs": [
        {
          "output_type": "stream",
          "name": "stdout",
          "text": [
            "Optimization terminated successfully.\n",
            "         Current function value: 0.325261\n",
            "         Iterations 6\n",
            "                           Logit Regression Results                           \n",
            "==============================================================================\n",
            "Dep. Variable:      flag_kredit_macet   No. Observations:                15343\n",
            "Model:                          Logit   Df Residuals:                    15342\n",
            "Method:                           MLE   Df Model:                            0\n",
            "Date:                Tue, 01 Feb 2022   Pseudo R-squ.:                -0.09537\n",
            "Time:                        06:16:42   Log-Likelihood:                -4990.5\n",
            "converged:                       True   LL-Null:                       -4556.0\n",
            "Covariance Type:            nonrobust   LLR p-value:                       nan\n",
            "================================================================================\n",
            "                   coef    std err          z      P>|z|      [0.025      0.975]\n",
            "--------------------------------------------------------------------------------\n",
            "jumlah_kartu    -0.9334      0.012    -77.160      0.000      -0.957      -0.910\n",
            "================================================================================\n"
          ]
        }
      ]
    },
    {
      "cell_type": "markdown",
      "source": [
        "Dari hasil pemodelan tersebut, jika menggunakan taraf signifikansi 5%, maka variabel jumlah_kartu berpengaruh signifikan terhadap flag_kredit_macet. Karena 1 adalah \"Yes\" pada flag_kredit_macet, maka dia digunakan sebagai referensi atau kelas negatif. Tanda coef menunjukkan arah hubungan variabel tersebut. Ilustrasinya adalah, semakin besar jumlah_kartu, maka kecenderungan untuk flag_kredit_macet semakin bertambah."
      ],
      "metadata": {
        "id": "NJMI6NH8p0mi"
      }
    },
    {
      "cell_type": "code",
      "source": [
        "# Nilai Koefisien Logit Regression dengan metode Maximum Likelihood\n",
        "result.params"
      ],
      "metadata": {
        "colab": {
          "base_uri": "https://localhost:8080/"
        },
        "id": "9mUvI4WGqwb8",
        "outputId": "e9d6c505-3fd6-4529-cf6e-9329d4598feb"
      },
      "execution_count": 18,
      "outputs": [
        {
          "output_type": "execute_result",
          "data": {
            "text/plain": [
              "jumlah_kartu   -0.9334\n",
              "dtype: float64"
            ]
          },
          "metadata": {},
          "execution_count": 18
        }
      ]
    },
    {
      "cell_type": "markdown",
      "source": [
        "Nilai coef jumlah_kartu adalah -0.9334 artinya, jika nilai jumlah_kartu bertambah 1 maka nilai flag_kredit_macet bertambah 0.9334."
      ],
      "metadata": {
        "id": "JDyYks2QrA-I"
      }
    },
    {
      "cell_type": "code",
      "source": [
        "# odds ratio\n",
        "round(np.exp(result.params), 3)"
      ],
      "metadata": {
        "colab": {
          "base_uri": "https://localhost:8080/"
        },
        "id": "l7NSy7Y4Cufz",
        "outputId": "b39c92be-ddd9-4877-c39e-7733f5ae2f77"
      },
      "execution_count": 19,
      "outputs": [
        {
          "output_type": "execute_result",
          "data": {
            "text/plain": [
              "jumlah_kartu    0.393\n",
              "dtype: float64"
            ]
          },
          "metadata": {},
          "execution_count": 19
        }
      ]
    },
    {
      "cell_type": "markdown",
      "source": [
        "Nilai odds ratio digunakan untuk mengetahui besarnya hubungan. Untuk nasabah yang kreditnya macet mempunyai kecenderungan untuk flag_kredit_macet sebesar 0.393 kali lipat dibanding nasabah yang kreditnya lancar. "
      ],
      "metadata": {
        "id": "-FfgCdQVsWM9"
      }
    },
    {
      "cell_type": "markdown",
      "source": [
        "Prediksi Model"
      ],
      "metadata": {
        "id": "SDkrSf-AsSqK"
      }
    },
    {
      "cell_type": "code",
      "source": [
        "prediction = result.predict(x_train)"
      ],
      "metadata": {
        "id": "h5KTcBPPFFnl"
      },
      "execution_count": 20,
      "outputs": []
    },
    {
      "cell_type": "code",
      "source": [
        "pred_results = pd.DataFrame(prediction, columns = [\"logreg_pred\"])\n",
        "pred_results[\"prediksi\"] = pred_results['logreg_pred'].apply(lambda x_train: 1 if x_train > 0.5 else 0)\n",
        "pred_results['actual'] = y_train\n",
        "pred_results.head()"
      ],
      "metadata": {
        "colab": {
          "base_uri": "https://localhost:8080/",
          "height": 206
        },
        "id": "EmMBk9slFKqa",
        "outputId": "0bbe63eb-7b42-4fce-a834-6a435f4c96b1"
      },
      "execution_count": 21,
      "outputs": [
        {
          "output_type": "execute_result",
          "data": {
            "text/html": [
              "\n",
              "  <div id=\"df-d95c1e18-442a-4f20-90b0-2fc31e541e8a\">\n",
              "    <div class=\"colab-df-container\">\n",
              "      <div>\n",
              "<style scoped>\n",
              "    .dataframe tbody tr th:only-of-type {\n",
              "        vertical-align: middle;\n",
              "    }\n",
              "\n",
              "    .dataframe tbody tr th {\n",
              "        vertical-align: top;\n",
              "    }\n",
              "\n",
              "    .dataframe thead th {\n",
              "        text-align: right;\n",
              "    }\n",
              "</style>\n",
              "<table border=\"1\" class=\"dataframe\">\n",
              "  <thead>\n",
              "    <tr style=\"text-align: right;\">\n",
              "      <th></th>\n",
              "      <th>logreg_pred</th>\n",
              "      <th>prediksi</th>\n",
              "      <th>actual</th>\n",
              "    </tr>\n",
              "  </thead>\n",
              "  <tbody>\n",
              "    <tr>\n",
              "      <th>0</th>\n",
              "      <td>0.009313</td>\n",
              "      <td>0</td>\n",
              "      <td>0</td>\n",
              "    </tr>\n",
              "    <tr>\n",
              "      <th>1</th>\n",
              "      <td>0.133912</td>\n",
              "      <td>0</td>\n",
              "      <td>0</td>\n",
              "    </tr>\n",
              "    <tr>\n",
              "      <th>2</th>\n",
              "      <td>0.282235</td>\n",
              "      <td>0</td>\n",
              "      <td>0</td>\n",
              "    </tr>\n",
              "    <tr>\n",
              "      <th>3</th>\n",
              "      <td>0.133912</td>\n",
              "      <td>0</td>\n",
              "      <td>0</td>\n",
              "    </tr>\n",
              "    <tr>\n",
              "      <th>4</th>\n",
              "      <td>0.057313</td>\n",
              "      <td>0</td>\n",
              "      <td>1</td>\n",
              "    </tr>\n",
              "  </tbody>\n",
              "</table>\n",
              "</div>\n",
              "      <button class=\"colab-df-convert\" onclick=\"convertToInteractive('df-d95c1e18-442a-4f20-90b0-2fc31e541e8a')\"\n",
              "              title=\"Convert this dataframe to an interactive table.\"\n",
              "              style=\"display:none;\">\n",
              "        \n",
              "  <svg xmlns=\"http://www.w3.org/2000/svg\" height=\"24px\"viewBox=\"0 0 24 24\"\n",
              "       width=\"24px\">\n",
              "    <path d=\"M0 0h24v24H0V0z\" fill=\"none\"/>\n",
              "    <path d=\"M18.56 5.44l.94 2.06.94-2.06 2.06-.94-2.06-.94-.94-2.06-.94 2.06-2.06.94zm-11 1L8.5 8.5l.94-2.06 2.06-.94-2.06-.94L8.5 2.5l-.94 2.06-2.06.94zm10 10l.94 2.06.94-2.06 2.06-.94-2.06-.94-.94-2.06-.94 2.06-2.06.94z\"/><path d=\"M17.41 7.96l-1.37-1.37c-.4-.4-.92-.59-1.43-.59-.52 0-1.04.2-1.43.59L10.3 9.45l-7.72 7.72c-.78.78-.78 2.05 0 2.83L4 21.41c.39.39.9.59 1.41.59.51 0 1.02-.2 1.41-.59l7.78-7.78 2.81-2.81c.8-.78.8-2.07 0-2.86zM5.41 20L4 18.59l7.72-7.72 1.47 1.35L5.41 20z\"/>\n",
              "  </svg>\n",
              "      </button>\n",
              "      \n",
              "  <style>\n",
              "    .colab-df-container {\n",
              "      display:flex;\n",
              "      flex-wrap:wrap;\n",
              "      gap: 12px;\n",
              "    }\n",
              "\n",
              "    .colab-df-convert {\n",
              "      background-color: #E8F0FE;\n",
              "      border: none;\n",
              "      border-radius: 50%;\n",
              "      cursor: pointer;\n",
              "      display: none;\n",
              "      fill: #1967D2;\n",
              "      height: 32px;\n",
              "      padding: 0 0 0 0;\n",
              "      width: 32px;\n",
              "    }\n",
              "\n",
              "    .colab-df-convert:hover {\n",
              "      background-color: #E2EBFA;\n",
              "      box-shadow: 0px 1px 2px rgba(60, 64, 67, 0.3), 0px 1px 3px 1px rgba(60, 64, 67, 0.15);\n",
              "      fill: #174EA6;\n",
              "    }\n",
              "\n",
              "    [theme=dark] .colab-df-convert {\n",
              "      background-color: #3B4455;\n",
              "      fill: #D2E3FC;\n",
              "    }\n",
              "\n",
              "    [theme=dark] .colab-df-convert:hover {\n",
              "      background-color: #434B5C;\n",
              "      box-shadow: 0px 1px 3px 1px rgba(0, 0, 0, 0.15);\n",
              "      filter: drop-shadow(0px 1px 2px rgba(0, 0, 0, 0.3));\n",
              "      fill: #FFFFFF;\n",
              "    }\n",
              "  </style>\n",
              "\n",
              "      <script>\n",
              "        const buttonEl =\n",
              "          document.querySelector('#df-d95c1e18-442a-4f20-90b0-2fc31e541e8a button.colab-df-convert');\n",
              "        buttonEl.style.display =\n",
              "          google.colab.kernel.accessAllowed ? 'block' : 'none';\n",
              "\n",
              "        async function convertToInteractive(key) {\n",
              "          const element = document.querySelector('#df-d95c1e18-442a-4f20-90b0-2fc31e541e8a');\n",
              "          const dataTable =\n",
              "            await google.colab.kernel.invokeFunction('convertToInteractive',\n",
              "                                                     [key], {});\n",
              "          if (!dataTable) return;\n",
              "\n",
              "          const docLinkHtml = 'Like what you see? Visit the ' +\n",
              "            '<a target=\"_blank\" href=https://colab.research.google.com/notebooks/data_table.ipynb>data table notebook</a>'\n",
              "            + ' to learn more about interactive tables.';\n",
              "          element.innerHTML = '';\n",
              "          dataTable['output_type'] = 'display_data';\n",
              "          await google.colab.output.renderOutput(dataTable, element);\n",
              "          const docLink = document.createElement('div');\n",
              "          docLink.innerHTML = docLinkHtml;\n",
              "          element.appendChild(docLink);\n",
              "        }\n",
              "      </script>\n",
              "    </div>\n",
              "  </div>\n",
              "  "
            ],
            "text/plain": [
              "   logreg_pred  prediksi  actual\n",
              "0     0.009313         0       0\n",
              "1     0.133912         0       0\n",
              "2     0.282235         0       0\n",
              "3     0.133912         0       0\n",
              "4     0.057313         0       1"
            ]
          },
          "metadata": {},
          "execution_count": 21
        }
      ]
    },
    {
      "cell_type": "markdown",
      "metadata": {
        "id": "gDbQSokoJ_lk"
      },
      "source": [
        "#### EVALUATION"
      ]
    },
    {
      "cell_type": "code",
      "source": [
        "print('Test accuracy =  {:.3f}'.format(accuracy_score(pred_results['actual'], pred_results[\"prediksi\"])))\n",
        "print('Test precision =  {:.3f}'.format(precision_score(pred_results['actual'], pred_results[\"prediksi\"], average='binary')))\n",
        "print('Test recall =  {:.3f}'.format(recall_score(pred_results['actual'], pred_results[\"prediksi\"], average='binary')))\n",
        "print('Test f-score =  {:.3f}'.format(f1_score(pred_results['actual'], pred_results[\"prediksi\"], average='binary')))"
      ],
      "metadata": {
        "colab": {
          "base_uri": "https://localhost:8080/"
        },
        "id": "ur1_gwGdEW3i",
        "outputId": "d7967a3f-cc6c-4119-c42d-b4487dceddde"
      },
      "execution_count": 22,
      "outputs": [
        {
          "output_type": "stream",
          "name": "stdout",
          "text": [
            "Test accuracy =  0.912\n",
            "Test precision =  0.000\n",
            "Test recall =  0.000\n",
            "Test f-score =  0.000\n"
          ]
        },
        {
          "output_type": "stream",
          "name": "stderr",
          "text": [
            "/usr/local/lib/python3.7/dist-packages/sklearn/metrics/_classification.py:1318: UndefinedMetricWarning: Precision is ill-defined and being set to 0.0 due to no predicted samples. Use `zero_division` parameter to control this behavior.\n",
            "  _warn_prf(average, modifier, msg_start, len(result))\n"
          ]
        }
      ]
    },
    {
      "cell_type": "markdown",
      "source": [
        "Pada *data train*, akurasi *testing* mendapatkan nilai yang sangat tinggi yaitu 0,912; dengan presisi sebesar 0,000; recall 0,000; dan f-score 0,000. Nilai presisi, recall dan f-score sebesar 0.000 dikarenakan data yang tidak seimbang. Tetapi secara keseluruhan model sudah cukup baik."
      ],
      "metadata": {
        "id": "b2wP-84kuqDN"
      }
    },
    {
      "cell_type": "markdown",
      "metadata": {
        "id": "qLZAG3gUKPHg"
      },
      "source": [
        "### LOAD AND PREDICT NEW DATA"
      ]
    },
    {
      "cell_type": "code",
      "metadata": {
        "id": "lYpKG-VWKPwT",
        "colab": {
          "base_uri": "https://localhost:8080/",
          "height": 270
        },
        "outputId": "38f27667-8179-492c-d9b3-3e1404f64cc0"
      },
      "source": [
        "# Load data\n",
        "df_test = pd.read_csv(os.path.join(path, \"npl_credit_scoring_test.csv\"), encoding='utf-8')\n",
        "df_test.head()"
      ],
      "execution_count": 23,
      "outputs": [
        {
          "output_type": "execute_result",
          "data": {
            "text/html": [
              "\n",
              "  <div id=\"df-fbfeff9a-2eb4-40a5-9c5b-7d7156d05067\">\n",
              "    <div class=\"colab-df-container\">\n",
              "      <div>\n",
              "<style scoped>\n",
              "    .dataframe tbody tr th:only-of-type {\n",
              "        vertical-align: middle;\n",
              "    }\n",
              "\n",
              "    .dataframe tbody tr th {\n",
              "        vertical-align: top;\n",
              "    }\n",
              "\n",
              "    .dataframe thead th {\n",
              "        text-align: right;\n",
              "    }\n",
              "</style>\n",
              "<table border=\"1\" class=\"dataframe\">\n",
              "  <thead>\n",
              "    <tr style=\"text-align: right;\">\n",
              "      <th></th>\n",
              "      <th>X</th>\n",
              "      <th>jumlah_kartu</th>\n",
              "      <th>outstanding</th>\n",
              "      <th>limit_kredit</th>\n",
              "      <th>tagihan</th>\n",
              "      <th>total_pemakaian_tunai</th>\n",
              "      <th>total_pemakaian_retail</th>\n",
              "      <th>sisa_tagihan_tidak_terbayar</th>\n",
              "      <th>kode_cabang</th>\n",
              "      <th>rasio_pembayaran</th>\n",
              "      <th>persentasi_overlimit</th>\n",
              "      <th>rasio_pembayaran_3bulan</th>\n",
              "      <th>rasio_pembayaran_6bulan</th>\n",
              "      <th>skor_delikuensi</th>\n",
              "      <th>jumlah_tahun_sejak_pembukaan_kredit</th>\n",
              "      <th>total_pemakaian</th>\n",
              "      <th>sisa_tagihan_per_jumlah_kartu</th>\n",
              "      <th>sisa_tagihan_per_limit</th>\n",
              "      <th>total_pemakaian_per_limit</th>\n",
              "      <th>pemakaian_3bln_per_limit</th>\n",
              "      <th>pemakaian_6bln_per_limit</th>\n",
              "      <th>utilisasi_3bulan</th>\n",
              "      <th>utilisasi_6bulan</th>\n",
              "    </tr>\n",
              "  </thead>\n",
              "  <tbody>\n",
              "    <tr>\n",
              "      <th>0</th>\n",
              "      <td>6188</td>\n",
              "      <td>2</td>\n",
              "      <td>5025000</td>\n",
              "      <td>5000000.0</td>\n",
              "      <td>833333.0</td>\n",
              "      <td>900000.0</td>\n",
              "      <td>538002.0</td>\n",
              "      <td>3290742.0</td>\n",
              "      <td>F</td>\n",
              "      <td>100.0</td>\n",
              "      <td>0.00</td>\n",
              "      <td>100.0</td>\n",
              "      <td>150.0</td>\n",
              "      <td>0</td>\n",
              "      <td>6.75</td>\n",
              "      <td>1438002.0</td>\n",
              "      <td>1645371.0</td>\n",
              "      <td>0.658</td>\n",
              "      <td>0.288</td>\n",
              "      <td>0.0322</td>\n",
              "      <td>6.600000e-08</td>\n",
              "      <td>1.0200</td>\n",
              "      <td>1.2000</td>\n",
              "    </tr>\n",
              "    <tr>\n",
              "      <th>1</th>\n",
              "      <td>4783</td>\n",
              "      <td>2</td>\n",
              "      <td>509019</td>\n",
              "      <td>3000000.0</td>\n",
              "      <td>258000.0</td>\n",
              "      <td>0.0</td>\n",
              "      <td>418000.0</td>\n",
              "      <td>0.0</td>\n",
              "      <td>A</td>\n",
              "      <td>0.0</td>\n",
              "      <td>0.00</td>\n",
              "      <td>24.5</td>\n",
              "      <td>0.0</td>\n",
              "      <td>0</td>\n",
              "      <td>5.42</td>\n",
              "      <td>418000.0</td>\n",
              "      <td>0.0</td>\n",
              "      <td>0.000</td>\n",
              "      <td>0.139</td>\n",
              "      <td>0.0695</td>\n",
              "      <td>0.000000e+00</td>\n",
              "      <td>0.0897</td>\n",
              "      <td>0.0592</td>\n",
              "    </tr>\n",
              "    <tr>\n",
              "      <th>2</th>\n",
              "      <td>13414</td>\n",
              "      <td>2</td>\n",
              "      <td>5153766</td>\n",
              "      <td>5000000.0</td>\n",
              "      <td>5007495.0</td>\n",
              "      <td>0.0</td>\n",
              "      <td>5019950.0</td>\n",
              "      <td>5515204.0</td>\n",
              "      <td>F</td>\n",
              "      <td>0.0</td>\n",
              "      <td>9.88</td>\n",
              "      <td>75.2</td>\n",
              "      <td>10.0</td>\n",
              "      <td>0</td>\n",
              "      <td>7.67</td>\n",
              "      <td>5019950.0</td>\n",
              "      <td>2757602.0</td>\n",
              "      <td>1.100</td>\n",
              "      <td>1.000</td>\n",
              "      <td>0.4390</td>\n",
              "      <td>3.550000e-01</td>\n",
              "      <td>0.6740</td>\n",
              "      <td>0.3630</td>\n",
              "    </tr>\n",
              "    <tr>\n",
              "      <th>3</th>\n",
              "      <td>11819</td>\n",
              "      <td>3</td>\n",
              "      <td>29214412</td>\n",
              "      <td>35000000.0</td>\n",
              "      <td>28509908.0</td>\n",
              "      <td>0.0</td>\n",
              "      <td>4148000.0</td>\n",
              "      <td>29214022.0</td>\n",
              "      <td>A</td>\n",
              "      <td>0.0</td>\n",
              "      <td>0.00</td>\n",
              "      <td>15.0</td>\n",
              "      <td>30.2</td>\n",
              "      <td>0</td>\n",
              "      <td>13.70</td>\n",
              "      <td>4148000.0</td>\n",
              "      <td>9738007.0</td>\n",
              "      <td>0.835</td>\n",
              "      <td>0.119</td>\n",
              "      <td>0.0833</td>\n",
              "      <td>3.620000e-02</td>\n",
              "      <td>0.7920</td>\n",
              "      <td>0.7430</td>\n",
              "    </tr>\n",
              "    <tr>\n",
              "      <th>4</th>\n",
              "      <td>7416</td>\n",
              "      <td>2</td>\n",
              "      <td>40929</td>\n",
              "      <td>3000000.0</td>\n",
              "      <td>40100.0</td>\n",
              "      <td>0.0</td>\n",
              "      <td>0.0</td>\n",
              "      <td>0.0</td>\n",
              "      <td>B</td>\n",
              "      <td>0.0</td>\n",
              "      <td>0.00</td>\n",
              "      <td>0.0</td>\n",
              "      <td>0.0</td>\n",
              "      <td>0</td>\n",
              "      <td>6.42</td>\n",
              "      <td>0.0</td>\n",
              "      <td>0.0</td>\n",
              "      <td>0.000</td>\n",
              "      <td>0.000</td>\n",
              "      <td>0.0000</td>\n",
              "      <td>0.000000e+00</td>\n",
              "      <td>0.0107</td>\n",
              "      <td>0.0000</td>\n",
              "    </tr>\n",
              "  </tbody>\n",
              "</table>\n",
              "</div>\n",
              "      <button class=\"colab-df-convert\" onclick=\"convertToInteractive('df-fbfeff9a-2eb4-40a5-9c5b-7d7156d05067')\"\n",
              "              title=\"Convert this dataframe to an interactive table.\"\n",
              "              style=\"display:none;\">\n",
              "        \n",
              "  <svg xmlns=\"http://www.w3.org/2000/svg\" height=\"24px\"viewBox=\"0 0 24 24\"\n",
              "       width=\"24px\">\n",
              "    <path d=\"M0 0h24v24H0V0z\" fill=\"none\"/>\n",
              "    <path d=\"M18.56 5.44l.94 2.06.94-2.06 2.06-.94-2.06-.94-.94-2.06-.94 2.06-2.06.94zm-11 1L8.5 8.5l.94-2.06 2.06-.94-2.06-.94L8.5 2.5l-.94 2.06-2.06.94zm10 10l.94 2.06.94-2.06 2.06-.94-2.06-.94-.94-2.06-.94 2.06-2.06.94z\"/><path d=\"M17.41 7.96l-1.37-1.37c-.4-.4-.92-.59-1.43-.59-.52 0-1.04.2-1.43.59L10.3 9.45l-7.72 7.72c-.78.78-.78 2.05 0 2.83L4 21.41c.39.39.9.59 1.41.59.51 0 1.02-.2 1.41-.59l7.78-7.78 2.81-2.81c.8-.78.8-2.07 0-2.86zM5.41 20L4 18.59l7.72-7.72 1.47 1.35L5.41 20z\"/>\n",
              "  </svg>\n",
              "      </button>\n",
              "      \n",
              "  <style>\n",
              "    .colab-df-container {\n",
              "      display:flex;\n",
              "      flex-wrap:wrap;\n",
              "      gap: 12px;\n",
              "    }\n",
              "\n",
              "    .colab-df-convert {\n",
              "      background-color: #E8F0FE;\n",
              "      border: none;\n",
              "      border-radius: 50%;\n",
              "      cursor: pointer;\n",
              "      display: none;\n",
              "      fill: #1967D2;\n",
              "      height: 32px;\n",
              "      padding: 0 0 0 0;\n",
              "      width: 32px;\n",
              "    }\n",
              "\n",
              "    .colab-df-convert:hover {\n",
              "      background-color: #E2EBFA;\n",
              "      box-shadow: 0px 1px 2px rgba(60, 64, 67, 0.3), 0px 1px 3px 1px rgba(60, 64, 67, 0.15);\n",
              "      fill: #174EA6;\n",
              "    }\n",
              "\n",
              "    [theme=dark] .colab-df-convert {\n",
              "      background-color: #3B4455;\n",
              "      fill: #D2E3FC;\n",
              "    }\n",
              "\n",
              "    [theme=dark] .colab-df-convert:hover {\n",
              "      background-color: #434B5C;\n",
              "      box-shadow: 0px 1px 3px 1px rgba(0, 0, 0, 0.15);\n",
              "      filter: drop-shadow(0px 1px 2px rgba(0, 0, 0, 0.3));\n",
              "      fill: #FFFFFF;\n",
              "    }\n",
              "  </style>\n",
              "\n",
              "      <script>\n",
              "        const buttonEl =\n",
              "          document.querySelector('#df-fbfeff9a-2eb4-40a5-9c5b-7d7156d05067 button.colab-df-convert');\n",
              "        buttonEl.style.display =\n",
              "          google.colab.kernel.accessAllowed ? 'block' : 'none';\n",
              "\n",
              "        async function convertToInteractive(key) {\n",
              "          const element = document.querySelector('#df-fbfeff9a-2eb4-40a5-9c5b-7d7156d05067');\n",
              "          const dataTable =\n",
              "            await google.colab.kernel.invokeFunction('convertToInteractive',\n",
              "                                                     [key], {});\n",
              "          if (!dataTable) return;\n",
              "\n",
              "          const docLinkHtml = 'Like what you see? Visit the ' +\n",
              "            '<a target=\"_blank\" href=https://colab.research.google.com/notebooks/data_table.ipynb>data table notebook</a>'\n",
              "            + ' to learn more about interactive tables.';\n",
              "          element.innerHTML = '';\n",
              "          dataTable['output_type'] = 'display_data';\n",
              "          await google.colab.output.renderOutput(dataTable, element);\n",
              "          const docLink = document.createElement('div');\n",
              "          docLink.innerHTML = docLinkHtml;\n",
              "          element.appendChild(docLink);\n",
              "        }\n",
              "      </script>\n",
              "    </div>\n",
              "  </div>\n",
              "  "
            ],
            "text/plain": [
              "       X  jumlah_kartu  ...  utilisasi_3bulan  utilisasi_6bulan\n",
              "0   6188             2  ...            1.0200            1.2000\n",
              "1   4783             2  ...            0.0897            0.0592\n",
              "2  13414             2  ...            0.6740            0.3630\n",
              "3  11819             3  ...            0.7920            0.7430\n",
              "4   7416             2  ...            0.0107            0.0000\n",
              "\n",
              "[5 rows x 23 columns]"
            ]
          },
          "metadata": {},
          "execution_count": 23
        }
      ]
    },
    {
      "cell_type": "code",
      "source": [
        "# Mendefinisikan variabel dependen dan variabel independen\n",
        "y_train = df_train['flag_kredit_macet']\n",
        "x_test = df_test['jumlah_kartu']\n",
        "\n",
        "# Membuat dataframe test regression\n",
        "df_test_regression = pd.DataFrame({'x_test':x_test, 'y_train':y_train})\n",
        "df_test_regression.head()"
      ],
      "metadata": {
        "colab": {
          "base_uri": "https://localhost:8080/",
          "height": 206
        },
        "id": "T0ZG23UHyFAH",
        "outputId": "c5de0dc1-c77c-44b3-e2aa-bb03e250da46"
      },
      "execution_count": 24,
      "outputs": [
        {
          "output_type": "execute_result",
          "data": {
            "text/html": [
              "\n",
              "  <div id=\"df-371e9c7f-9260-4629-970f-929f1b0d69d9\">\n",
              "    <div class=\"colab-df-container\">\n",
              "      <div>\n",
              "<style scoped>\n",
              "    .dataframe tbody tr th:only-of-type {\n",
              "        vertical-align: middle;\n",
              "    }\n",
              "\n",
              "    .dataframe tbody tr th {\n",
              "        vertical-align: top;\n",
              "    }\n",
              "\n",
              "    .dataframe thead th {\n",
              "        text-align: right;\n",
              "    }\n",
              "</style>\n",
              "<table border=\"1\" class=\"dataframe\">\n",
              "  <thead>\n",
              "    <tr style=\"text-align: right;\">\n",
              "      <th></th>\n",
              "      <th>x_test</th>\n",
              "      <th>y_train</th>\n",
              "    </tr>\n",
              "  </thead>\n",
              "  <tbody>\n",
              "    <tr>\n",
              "      <th>0</th>\n",
              "      <td>2.0</td>\n",
              "      <td>0</td>\n",
              "    </tr>\n",
              "    <tr>\n",
              "      <th>1</th>\n",
              "      <td>2.0</td>\n",
              "      <td>0</td>\n",
              "    </tr>\n",
              "    <tr>\n",
              "      <th>2</th>\n",
              "      <td>2.0</td>\n",
              "      <td>0</td>\n",
              "    </tr>\n",
              "    <tr>\n",
              "      <th>3</th>\n",
              "      <td>3.0</td>\n",
              "      <td>0</td>\n",
              "    </tr>\n",
              "    <tr>\n",
              "      <th>4</th>\n",
              "      <td>2.0</td>\n",
              "      <td>1</td>\n",
              "    </tr>\n",
              "  </tbody>\n",
              "</table>\n",
              "</div>\n",
              "      <button class=\"colab-df-convert\" onclick=\"convertToInteractive('df-371e9c7f-9260-4629-970f-929f1b0d69d9')\"\n",
              "              title=\"Convert this dataframe to an interactive table.\"\n",
              "              style=\"display:none;\">\n",
              "        \n",
              "  <svg xmlns=\"http://www.w3.org/2000/svg\" height=\"24px\"viewBox=\"0 0 24 24\"\n",
              "       width=\"24px\">\n",
              "    <path d=\"M0 0h24v24H0V0z\" fill=\"none\"/>\n",
              "    <path d=\"M18.56 5.44l.94 2.06.94-2.06 2.06-.94-2.06-.94-.94-2.06-.94 2.06-2.06.94zm-11 1L8.5 8.5l.94-2.06 2.06-.94-2.06-.94L8.5 2.5l-.94 2.06-2.06.94zm10 10l.94 2.06.94-2.06 2.06-.94-2.06-.94-.94-2.06-.94 2.06-2.06.94z\"/><path d=\"M17.41 7.96l-1.37-1.37c-.4-.4-.92-.59-1.43-.59-.52 0-1.04.2-1.43.59L10.3 9.45l-7.72 7.72c-.78.78-.78 2.05 0 2.83L4 21.41c.39.39.9.59 1.41.59.51 0 1.02-.2 1.41-.59l7.78-7.78 2.81-2.81c.8-.78.8-2.07 0-2.86zM5.41 20L4 18.59l7.72-7.72 1.47 1.35L5.41 20z\"/>\n",
              "  </svg>\n",
              "      </button>\n",
              "      \n",
              "  <style>\n",
              "    .colab-df-container {\n",
              "      display:flex;\n",
              "      flex-wrap:wrap;\n",
              "      gap: 12px;\n",
              "    }\n",
              "\n",
              "    .colab-df-convert {\n",
              "      background-color: #E8F0FE;\n",
              "      border: none;\n",
              "      border-radius: 50%;\n",
              "      cursor: pointer;\n",
              "      display: none;\n",
              "      fill: #1967D2;\n",
              "      height: 32px;\n",
              "      padding: 0 0 0 0;\n",
              "      width: 32px;\n",
              "    }\n",
              "\n",
              "    .colab-df-convert:hover {\n",
              "      background-color: #E2EBFA;\n",
              "      box-shadow: 0px 1px 2px rgba(60, 64, 67, 0.3), 0px 1px 3px 1px rgba(60, 64, 67, 0.15);\n",
              "      fill: #174EA6;\n",
              "    }\n",
              "\n",
              "    [theme=dark] .colab-df-convert {\n",
              "      background-color: #3B4455;\n",
              "      fill: #D2E3FC;\n",
              "    }\n",
              "\n",
              "    [theme=dark] .colab-df-convert:hover {\n",
              "      background-color: #434B5C;\n",
              "      box-shadow: 0px 1px 3px 1px rgba(0, 0, 0, 0.15);\n",
              "      filter: drop-shadow(0px 1px 2px rgba(0, 0, 0, 0.3));\n",
              "      fill: #FFFFFF;\n",
              "    }\n",
              "  </style>\n",
              "\n",
              "      <script>\n",
              "        const buttonEl =\n",
              "          document.querySelector('#df-371e9c7f-9260-4629-970f-929f1b0d69d9 button.colab-df-convert');\n",
              "        buttonEl.style.display =\n",
              "          google.colab.kernel.accessAllowed ? 'block' : 'none';\n",
              "\n",
              "        async function convertToInteractive(key) {\n",
              "          const element = document.querySelector('#df-371e9c7f-9260-4629-970f-929f1b0d69d9');\n",
              "          const dataTable =\n",
              "            await google.colab.kernel.invokeFunction('convertToInteractive',\n",
              "                                                     [key], {});\n",
              "          if (!dataTable) return;\n",
              "\n",
              "          const docLinkHtml = 'Like what you see? Visit the ' +\n",
              "            '<a target=\"_blank\" href=https://colab.research.google.com/notebooks/data_table.ipynb>data table notebook</a>'\n",
              "            + ' to learn more about interactive tables.';\n",
              "          element.innerHTML = '';\n",
              "          dataTable['output_type'] = 'display_data';\n",
              "          await google.colab.output.renderOutput(dataTable, element);\n",
              "          const docLink = document.createElement('div');\n",
              "          docLink.innerHTML = docLinkHtml;\n",
              "          element.appendChild(docLink);\n",
              "        }\n",
              "      </script>\n",
              "    </div>\n",
              "  </div>\n",
              "  "
            ],
            "text/plain": [
              "   x_test  y_train\n",
              "0     2.0        0\n",
              "1     2.0        0\n",
              "2     2.0        0\n",
              "3     3.0        0\n",
              "4     2.0        1"
            ]
          },
          "metadata": {},
          "execution_count": 24
        }
      ]
    },
    {
      "cell_type": "code",
      "source": [
        "prediction = result.predict(x_test)"
      ],
      "metadata": {
        "id": "NUK6VC8px-zH"
      },
      "execution_count": 25,
      "outputs": []
    },
    {
      "cell_type": "code",
      "source": [
        "pred_results = pd.DataFrame(prediction, columns = [\"logreg_pred\"])\n",
        "pred_results[\"prediksi\"] = pred_results['logreg_pred'].apply(lambda x_test: 1 if x_test > 0.5 else 0)\n",
        "pred_results['actual'] = y_train\n",
        "pred_results.head()"
      ],
      "metadata": {
        "colab": {
          "base_uri": "https://localhost:8080/",
          "height": 206
        },
        "id": "8ikPLffiyqNf",
        "outputId": "be84a4bf-f5f3-45e1-9f38-99ec44f1f994"
      },
      "execution_count": 26,
      "outputs": [
        {
          "output_type": "execute_result",
          "data": {
            "text/html": [
              "\n",
              "  <div id=\"df-31a4d834-8d2e-47f3-9b99-70268ec5625e\">\n",
              "    <div class=\"colab-df-container\">\n",
              "      <div>\n",
              "<style scoped>\n",
              "    .dataframe tbody tr th:only-of-type {\n",
              "        vertical-align: middle;\n",
              "    }\n",
              "\n",
              "    .dataframe tbody tr th {\n",
              "        vertical-align: top;\n",
              "    }\n",
              "\n",
              "    .dataframe thead th {\n",
              "        text-align: right;\n",
              "    }\n",
              "</style>\n",
              "<table border=\"1\" class=\"dataframe\">\n",
              "  <thead>\n",
              "    <tr style=\"text-align: right;\">\n",
              "      <th></th>\n",
              "      <th>logreg_pred</th>\n",
              "      <th>prediksi</th>\n",
              "      <th>actual</th>\n",
              "    </tr>\n",
              "  </thead>\n",
              "  <tbody>\n",
              "    <tr>\n",
              "      <th>0</th>\n",
              "      <td>0.133912</td>\n",
              "      <td>0</td>\n",
              "      <td>0</td>\n",
              "    </tr>\n",
              "    <tr>\n",
              "      <th>1</th>\n",
              "      <td>0.133912</td>\n",
              "      <td>0</td>\n",
              "      <td>0</td>\n",
              "    </tr>\n",
              "    <tr>\n",
              "      <th>2</th>\n",
              "      <td>0.133912</td>\n",
              "      <td>0</td>\n",
              "      <td>0</td>\n",
              "    </tr>\n",
              "    <tr>\n",
              "      <th>3</th>\n",
              "      <td>0.057313</td>\n",
              "      <td>0</td>\n",
              "      <td>0</td>\n",
              "    </tr>\n",
              "    <tr>\n",
              "      <th>4</th>\n",
              "      <td>0.133912</td>\n",
              "      <td>0</td>\n",
              "      <td>1</td>\n",
              "    </tr>\n",
              "  </tbody>\n",
              "</table>\n",
              "</div>\n",
              "      <button class=\"colab-df-convert\" onclick=\"convertToInteractive('df-31a4d834-8d2e-47f3-9b99-70268ec5625e')\"\n",
              "              title=\"Convert this dataframe to an interactive table.\"\n",
              "              style=\"display:none;\">\n",
              "        \n",
              "  <svg xmlns=\"http://www.w3.org/2000/svg\" height=\"24px\"viewBox=\"0 0 24 24\"\n",
              "       width=\"24px\">\n",
              "    <path d=\"M0 0h24v24H0V0z\" fill=\"none\"/>\n",
              "    <path d=\"M18.56 5.44l.94 2.06.94-2.06 2.06-.94-2.06-.94-.94-2.06-.94 2.06-2.06.94zm-11 1L8.5 8.5l.94-2.06 2.06-.94-2.06-.94L8.5 2.5l-.94 2.06-2.06.94zm10 10l.94 2.06.94-2.06 2.06-.94-2.06-.94-.94-2.06-.94 2.06-2.06.94z\"/><path d=\"M17.41 7.96l-1.37-1.37c-.4-.4-.92-.59-1.43-.59-.52 0-1.04.2-1.43.59L10.3 9.45l-7.72 7.72c-.78.78-.78 2.05 0 2.83L4 21.41c.39.39.9.59 1.41.59.51 0 1.02-.2 1.41-.59l7.78-7.78 2.81-2.81c.8-.78.8-2.07 0-2.86zM5.41 20L4 18.59l7.72-7.72 1.47 1.35L5.41 20z\"/>\n",
              "  </svg>\n",
              "      </button>\n",
              "      \n",
              "  <style>\n",
              "    .colab-df-container {\n",
              "      display:flex;\n",
              "      flex-wrap:wrap;\n",
              "      gap: 12px;\n",
              "    }\n",
              "\n",
              "    .colab-df-convert {\n",
              "      background-color: #E8F0FE;\n",
              "      border: none;\n",
              "      border-radius: 50%;\n",
              "      cursor: pointer;\n",
              "      display: none;\n",
              "      fill: #1967D2;\n",
              "      height: 32px;\n",
              "      padding: 0 0 0 0;\n",
              "      width: 32px;\n",
              "    }\n",
              "\n",
              "    .colab-df-convert:hover {\n",
              "      background-color: #E2EBFA;\n",
              "      box-shadow: 0px 1px 2px rgba(60, 64, 67, 0.3), 0px 1px 3px 1px rgba(60, 64, 67, 0.15);\n",
              "      fill: #174EA6;\n",
              "    }\n",
              "\n",
              "    [theme=dark] .colab-df-convert {\n",
              "      background-color: #3B4455;\n",
              "      fill: #D2E3FC;\n",
              "    }\n",
              "\n",
              "    [theme=dark] .colab-df-convert:hover {\n",
              "      background-color: #434B5C;\n",
              "      box-shadow: 0px 1px 3px 1px rgba(0, 0, 0, 0.15);\n",
              "      filter: drop-shadow(0px 1px 2px rgba(0, 0, 0, 0.3));\n",
              "      fill: #FFFFFF;\n",
              "    }\n",
              "  </style>\n",
              "\n",
              "      <script>\n",
              "        const buttonEl =\n",
              "          document.querySelector('#df-31a4d834-8d2e-47f3-9b99-70268ec5625e button.colab-df-convert');\n",
              "        buttonEl.style.display =\n",
              "          google.colab.kernel.accessAllowed ? 'block' : 'none';\n",
              "\n",
              "        async function convertToInteractive(key) {\n",
              "          const element = document.querySelector('#df-31a4d834-8d2e-47f3-9b99-70268ec5625e');\n",
              "          const dataTable =\n",
              "            await google.colab.kernel.invokeFunction('convertToInteractive',\n",
              "                                                     [key], {});\n",
              "          if (!dataTable) return;\n",
              "\n",
              "          const docLinkHtml = 'Like what you see? Visit the ' +\n",
              "            '<a target=\"_blank\" href=https://colab.research.google.com/notebooks/data_table.ipynb>data table notebook</a>'\n",
              "            + ' to learn more about interactive tables.';\n",
              "          element.innerHTML = '';\n",
              "          dataTable['output_type'] = 'display_data';\n",
              "          await google.colab.output.renderOutput(dataTable, element);\n",
              "          const docLink = document.createElement('div');\n",
              "          docLink.innerHTML = docLinkHtml;\n",
              "          element.appendChild(docLink);\n",
              "        }\n",
              "      </script>\n",
              "    </div>\n",
              "  </div>\n",
              "  "
            ],
            "text/plain": [
              "   logreg_pred  prediksi  actual\n",
              "0     0.133912         0       0\n",
              "1     0.133912         0       0\n",
              "2     0.133912         0       0\n",
              "3     0.057313         0       0\n",
              "4     0.133912         0       1"
            ]
          },
          "metadata": {},
          "execution_count": 26
        }
      ]
    },
    {
      "cell_type": "code",
      "source": [
        "print('Test accuracy =  {:.3f}'.format(accuracy_score(pred_results['actual'], pred_results[\"prediksi\"])))\n",
        "print('Test precision =  {:.3f}'.format(precision_score(pred_results['actual'], pred_results[\"prediksi\"], average='binary')))\n",
        "print('Test recall =  {:.3f}'.format(recall_score(pred_results['actual'], pred_results[\"prediksi\"], average='binary')))\n",
        "print('Test f-score =  {:.3f}'.format(f1_score(pred_results['actual'], pred_results[\"prediksi\"], average='binary')))"
      ],
      "metadata": {
        "colab": {
          "base_uri": "https://localhost:8080/"
        },
        "id": "9TPTGNFAy0nz",
        "outputId": "d53f1755-ef7c-44a0-f3a4-d56707fdba7e"
      },
      "execution_count": 27,
      "outputs": [
        {
          "output_type": "stream",
          "name": "stdout",
          "text": [
            "Test accuracy =  0.940\n",
            "Test precision =  0.000\n",
            "Test recall =  0.000\n",
            "Test f-score =  0.000\n"
          ]
        },
        {
          "output_type": "stream",
          "name": "stderr",
          "text": [
            "/usr/local/lib/python3.7/dist-packages/sklearn/metrics/_classification.py:1318: UndefinedMetricWarning: Precision is ill-defined and being set to 0.0 due to no predicted samples. Use `zero_division` parameter to control this behavior.\n",
            "  _warn_prf(average, modifier, msg_start, len(result))\n"
          ]
        }
      ]
    },
    {
      "cell_type": "markdown",
      "source": [
        "Pada data test, akurasi *testing* mendapatkan nilai yang sangat tinggi yaitu 0,940; dengan presisi sebesar 0,000; recall 0,000; dan f-score 0,000. Nilai presisi, recall dan f-score sebesar 0.000 dikarenakan data yang tidak seimbang. Tetapi secara keseluruhan model sudah cukup baik. Akurasi model pada *data train* dan *data test* juga sudah optimal *(sweet spot)* karena perbedaan skor akurasi antar kedua data tersebut hanya sebesar 0,028 (didapatkan dari 0,940-0,912)."
      ],
      "metadata": {
        "id": "kVbRi5v3zKTW"
      }
    },
    {
      "cell_type": "markdown",
      "metadata": {
        "id": "qFWul082J_lk"
      },
      "source": [
        "### KESIMPULAN/SARAN"
      ]
    },
    {
      "cell_type": "markdown",
      "source": [
        "Dari *capstone project classification* ini, penulis menyimpulkan beberapa hal, yaitu:\n",
        "\n",
        "* Hasil analisis *logit regression* dengan metode *maximum likelihood* menunjukkan variabel jumlah_kartu berpengaruh signifikan terhadap flag_kredit_macet (Prob. 0,000 < *a* 0,05) dengan koefisien beta sebesar -0.9334. Ilustrasinya adalah, semakin besar jumlah_kartu, maka kecenderungan untuk flag_kredit_macet semakin bertambah.\n",
        "* Hasil analisis *odds ratio* menunjukkan untuk nasabah yang kreditnya macet mempunyai kecenderungan untuk flag_kredit_macet sebesar 0.393 kali lipat dibanding nasabah yang kreditnya lancar.\n",
        "* Akurasi model pada *data train* dan *data test* juga sudah optimal *(sweet spot)* karena perbedaan skor akurasi antar kedua data tersebut hanya sebesar 0,028 (didapatkan dari 0,940-0,912). Sehingga, secara keseluruhan model sudah cukup baik.\n",
        "\n",
        "Adapun saran yang dapat diberikan kepada pihak manajemen Bank A agar menaikkan tingkat bunga untuk nasabah yang memiliki jumlah kartu kredit yang banyak.\n",
        "\n"
      ],
      "metadata": {
        "id": "O0VshiHg1Z_x"
      }
    },
    {
      "cell_type": "markdown",
      "source": [
        "### DAFTAR PUSTAKA"
      ],
      "metadata": {
        "id": "Tqfkf7ac41yK"
      }
    },
    {
      "cell_type": "markdown",
      "source": [
        "[1]\tS. Mayadi, “Regresi Logistik Univariat,” J. Educ., vol. 4, no. 2, hal. 119–135, 2009, doi: /10.29408/edc.v4i2.48.\n",
        "\n",
        "[2]\tAdmin, “Pengenalan Feature Engineering,” SkillPlus: Free Indonesian Tutorial, 2020. https://skillplus.web.id/pengenalan-feature-engineering/ (diakses Feb 01, 2022).\n",
        "\n",
        "[3]\tJ. Perktold, S. Seabold, dan J. Taylor, “Regression with Discrete Dependent Variable,” statsmodels, 2022. https://www.statsmodels.org/dev/discretemod.html (diakses Jan 31, 2022).\n",
        "\n"
      ],
      "metadata": {
        "id": "jlvSEnzx7g3a"
      }
    }
  ]
}